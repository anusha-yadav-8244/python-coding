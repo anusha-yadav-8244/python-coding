{
 "cells": [
  {
   "cell_type": "code",
   "execution_count": null,
   "id": "e2c8ffbe",
   "metadata": {},
   "outputs": [],
   "source": [
    "#1.Write a python program to convert a string to \n",
    "#lower case"
   ]
  },
  {
   "cell_type": "code",
   "execution_count": 1,
   "id": "2e3689ac",
   "metadata": {},
   "outputs": [
    {
     "data": {
      "text/plain": [
       "'honesty is the best policy'"
      ]
     },
     "execution_count": 1,
     "metadata": {},
     "output_type": "execute_result"
    }
   ],
   "source": [
    "x=\"HONESTY IS THE BEST POLICY\"\n",
    "x.lower()"
   ]
  },
  {
   "cell_type": "code",
   "execution_count": null,
   "id": "5cdb77eb",
   "metadata": {},
   "outputs": [],
   "source": [
    "#2.Write a python program to convert only odd \n",
    "#indexed characters to lower case \n",
    "#Ex:- PYTHON\n",
    "#Output: - PyThOn\n"
   ]
  },
  {
   "cell_type": "code",
   "execution_count": 2,
   "id": "70dd1e45",
   "metadata": {},
   "outputs": [
    {
     "name": "stdout",
     "output_type": "stream",
     "text": [
      "enter a string :anusha\n",
      "AnUsHa\n"
     ]
    }
   ],
   "source": [
    "x=input(\"enter a string :\")\n",
    "str1=\"\"\n",
    "for i in range(0,len(x)):\n",
    "    if i%2==0:\n",
    "        str1=str1+b[i].upper()\n",
    "    else:\n",
    "        str1=str1+b[i].lower()\n",
    "print(str1)      "
   ]
  },
  {
   "cell_type": "code",
   "execution_count": null,
   "id": "7c6e8ed5",
   "metadata": {},
   "outputs": [],
   "source": [
    "#3.Write a python program to convert only even \n",
    "#indexed characters to lower case \n",
    "#Ex:- PYTHON\n",
    "#Output: - pYtHoN"
   ]
  },
  {
   "cell_type": "code",
   "execution_count": 4,
   "id": "0daf2348",
   "metadata": {},
   "outputs": [
    {
     "name": "stdout",
     "output_type": "stream",
     "text": [
      "enter a string :anusha\n",
      "aNuShA\n"
     ]
    }
   ],
   "source": [
    "x=input(\"enter a string :\")\n",
    "str1=\"\"\n",
    "for i in range(0,len(x)):\n",
    "    if i%2!=0:\n",
    "        str1=str1+b[i].upper()\n",
    "    else:\n",
    "        str1=str1+b[i].lower()\n",
    "print(str1) "
   ]
  },
  {
   "cell_type": "code",
   "execution_count": null,
   "id": "25e7ae3f",
   "metadata": {},
   "outputs": [],
   "source": [
    "#4.Write a python program to convert only odd \n",
    "#indexed characters to upper case \n",
    "#Ex:- python\n",
    "#Output: - pYtHoN\n"
   ]
  },
  {
   "cell_type": "code",
   "execution_count": 8,
   "id": "27ccecaf",
   "metadata": {},
   "outputs": [
    {
     "name": "stdout",
     "output_type": "stream",
     "text": [
      "enter a stringanusha\n",
      "aNuShA\n"
     ]
    }
   ],
   "source": [
    "x=input(\"enter a string\")\n",
    "str1=\"\"\n",
    "for i in range(0,len(x)):\n",
    "    if i%2!=0:\n",
    "        str1=str1+b[i].upper()\n",
    "    else:\n",
    "        str1=str1+b[i].lower()\n",
    "print(str1)\n",
    "        \n",
    "        "
   ]
  },
  {
   "cell_type": "code",
   "execution_count": null,
   "id": "50c912e1",
   "metadata": {},
   "outputs": [],
   "source": [
    "#5.Write a python program to convert only even \n",
    "#indexed characters to upper case \n",
    "#Ex:- python\n",
    "#Output: - PyThOn\n"
   ]
  },
  {
   "cell_type": "code",
   "execution_count": 9,
   "id": "c5ac99c8",
   "metadata": {},
   "outputs": [
    {
     "name": "stdout",
     "output_type": "stream",
     "text": [
      "enter a stringanusha\n",
      "AnUsHa\n"
     ]
    }
   ],
   "source": [
    "x=input(\"enter a string\")\n",
    "str1=\"\"\n",
    "for i in range(0,len(x)):\n",
    "    if i%2==0:\n",
    "        str1=str1+b[i].upper()\n",
    "    else:\n",
    "        str1=str1+b[i].lower()\n",
    "print(str1)"
   ]
  },
  {
   "cell_type": "code",
   "execution_count": null,
   "id": "bf272705",
   "metadata": {},
   "outputs": [],
   "source": [
    "#6.Write a python program where you have \n",
    "#different variable which contains your name \n",
    "#,sex,age, phone no ,fathers name and mothers \n",
    "#name.And by using this variable create a \n",
    "#variable named bio-data where you will use all \n",
    "#this variable\n",
    "#Ex:-print(bio-data)\n",
    "#Output:- My name is …., My age is ….,My \n",
    "#phone-no is ….,my fathers name is …,and my \n",
    "#mothers name is…"
   ]
  },
  {
   "cell_type": "code",
   "execution_count": 4,
   "id": "80714341",
   "metadata": {},
   "outputs": [
    {
     "name": "stdout",
     "output_type": "stream",
     "text": [
      "enter your nameAnusha\n",
      "enter your sexF\n",
      "enter your age23\n",
      "enter your phonenumber9876543210\n",
      "enter your fathersnameilaiah\n",
      "enter your mothersnamemalathi\n"
     ]
    },
    {
     "data": {
      "text/plain": [
       "'my name isAnusha, my sex is F, my age is 23, my phonenumber is 9876543210, my fathersname is ilaiah, my mothersname is malathi'"
      ]
     },
     "execution_count": 4,
     "metadata": {},
     "output_type": "execute_result"
    }
   ],
   "source": [
    "name=input(\"enter your name\")\n",
    "sex=input(\"enter your sex\")\n",
    "age=int(input(\"enter your age\"))\n",
    "phonenumber=int(input(\"enter your phonenumber\"))\n",
    "fathersname=input(\"enter your fathersname\")\n",
    "mothersname=input(\"enter your mothersname\")\n",
    "bio_data=(\"my name is{}, my sex is {}, my age is {}, my phonenumber is {}, my fathersname is {}, my mothersname is {}\")\n",
    "bio_data.format(name,sex,age,phonenumber,fathersname,mothersname)"
   ]
  },
  {
   "cell_type": "code",
   "execution_count": null,
   "id": "43d138b5",
   "metadata": {},
   "outputs": [],
   "source": [
    "#7.Write a python program to count how many \n",
    "#times “@” occurred"
   ]
  },
  {
   "cell_type": "code",
   "execution_count": 7,
   "id": "b592c1fe",
   "metadata": {},
   "outputs": [
    {
     "name": "stdout",
     "output_type": "stream",
     "text": [
      "enter your dataas@fd@hg@kj@kj@lk@\n"
     ]
    },
    {
     "data": {
      "text/plain": [
       "6"
      ]
     },
     "execution_count": 7,
     "metadata": {},
     "output_type": "execute_result"
    }
   ],
   "source": [
    "x=input(\"enter your data\")\n",
    "x.count(\"@\")"
   ]
  },
  {
   "cell_type": "code",
   "execution_count": null,
   "id": "ea7b3a0c",
   "metadata": {},
   "outputs": [],
   "source": [
    "#8.Write a python program to get only names from \n",
    "#the string \n",
    "#“name1.@gmail.com,name2.@gmail.com,name\n",
    "#3.@gmail.com”\n",
    "#Output-name1,name2,name3"
   ]
  },
  {
   "cell_type": "code",
   "execution_count": 10,
   "id": "3c7e94d8",
   "metadata": {},
   "outputs": [
    {
     "name": "stdout",
     "output_type": "stream",
     "text": [
      "name1 name2 name3\n"
     ]
    }
   ],
   "source": [
    "s1=\"name1.@gmail.com,name2.@gmail.com,name3.@gmail.com\"\n",
    "s1=s1.split(\".\")\n",
    "print(s1[0],s1[2][4:],s1[4][4:])\n"
   ]
  },
  {
   "cell_type": "code",
   "execution_count": null,
   "id": "0ad1b562",
   "metadata": {},
   "outputs": [],
   "source": [
    "# Given a string of odd length greater than 9,return a new string made of the middle three characters of a given String\n"
   ]
  },
  {
   "cell_type": "code",
   "execution_count": 11,
   "id": "39620323",
   "metadata": {},
   "outputs": [
    {
     "data": {
      "text/plain": [
       "'hay'"
      ]
     },
     "execution_count": 11,
     "metadata": {},
     "output_type": "execute_result"
    }
   ],
   "source": [
    "name=\"anushayadav\"\n",
    "b=int(len(name)/2)\n",
    "name[b-1:b+2]"
   ]
  },
  {
   "cell_type": "code",
   "execution_count": null,
   "id": "b493abea",
   "metadata": {},
   "outputs": [],
   "source": [
    "#10. Write a python program to insert a 2 string \n",
    "#in the middle of 1 string\n",
    "#Ex:-Str1=”myn”\n",
    "#Str2=”sa”\n",
    "#Output:-“msayn”"
   ]
  },
  {
   "cell_type": "code",
   "execution_count": 18,
   "id": "85e8a352",
   "metadata": {},
   "outputs": [
    {
     "name": "stdout",
     "output_type": "stream",
     "text": [
      "enter your nameabc\n",
      "enter your nameefg\n"
     ]
    },
    {
     "data": {
      "text/plain": [
       "'abefgg'"
      ]
     },
     "execution_count": 18,
     "metadata": {},
     "output_type": "execute_result"
    }
   ],
   "source": [
    "s1=input(\"enter your name\")\n",
    "s2=input(\"enter your name\")\n",
    "s1[0:2]+s2+s2[2:]"
   ]
  },
  {
   "cell_type": "code",
   "execution_count": null,
   "id": "6fb0eec0",
   "metadata": {},
   "outputs": [],
   "source": [
    "#11. Write a program to remove vowels from \n",
    "#the entire alphabets \n",
    "#Ex:- “abcdefghijklmnopqrstuvwxyz”\n",
    "#Output:- “bcdfghjklmnpqrstvwxyz”"
   ]
  },
  {
   "cell_type": "code",
   "execution_count": 19,
   "id": "3b335be4",
   "metadata": {},
   "outputs": [
    {
     "data": {
      "text/plain": [
       "'bcdfghjklmnpqrstvwxyz'"
      ]
     },
     "execution_count": 19,
     "metadata": {},
     "output_type": "execute_result"
    }
   ],
   "source": [
    "a=\"abcdefghijklmnopqrstuvwxyz\"\n",
    "b=a.replace(\"a\",\"\")\n",
    "c=b.replace(\"e\",\"\")\n",
    "d=c.replace(\"i\",\"\")\n",
    "e=d.replace(\"o\",\"\")\n",
    "f=e.replace(\"u\",\"\")\n",
    "f"
   ]
  },
  {
   "cell_type": "code",
   "execution_count": null,
   "id": "e2437772",
   "metadata": {},
   "outputs": [],
   "source": []
  }
 ],
 "metadata": {
  "kernelspec": {
   "display_name": "Python 3 (ipykernel)",
   "language": "python",
   "name": "python3"
  },
  "language_info": {
   "codemirror_mode": {
    "name": "ipython",
    "version": 3
   },
   "file_extension": ".py",
   "mimetype": "text/x-python",
   "name": "python",
   "nbconvert_exporter": "python",
   "pygments_lexer": "ipython3",
   "version": "3.9.13"
  }
 },
 "nbformat": 4,
 "nbformat_minor": 5
}
