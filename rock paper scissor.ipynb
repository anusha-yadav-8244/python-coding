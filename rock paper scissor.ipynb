{
 "cells": [
  {
   "cell_type": "code",
   "execution_count": 5,
   "id": "684e6b37",
   "metadata": {},
   "outputs": [
    {
     "name": "stdout",
     "output_type": "stream",
     "text": [
      "enter your choicerock\n",
      "enter your choicerock\n",
      "play again\n"
     ]
    }
   ],
   "source": [
    "x=input(\"enter your choice\")\n",
    "y=input(\"enter your choice\")\n",
    "\"rock\"==1\n",
    "\"paper\"==2\n",
    "\"scissor\"==3\n",
    "if x==\"rock\" and y==\"rock\" or x==\"paper\" and y==\"paper\" or x==\"scissor\" and y==\"scissor\":\n",
    "    print(\"play again\")\n",
    "elif x==\"rock\" and y==\"paper\":\n",
    "    print(\"y wins\")\n",
    "elif x==\"paper\" and y==\"scissor\":\n",
    "    print(\"y wins\")\n",
    "elif x==\"scissor\" and y==\"rock\":\n",
    "    print(\"y wins\")\n",
    "elif x==\"paper\" and y==\"rock\":\n",
    "    print(\"x wins\")\n",
    "elif x==\"scisspr\" and y==\"paper\":\n",
    "    print(\"x wins\")\n",
    "elif x==\"rock\" and y==\"scissor\":\n",
    "    print(\"x wins\")\n",
    "else:\n",
    "    print(\"wrong statement\")"
   ]
  },
  {
   "cell_type": "code",
   "execution_count": null,
   "id": "c22908bd",
   "metadata": {},
   "outputs": [],
   "source": []
  },
  {
   "cell_type": "code",
   "execution_count": null,
   "id": "3b36f751",
   "metadata": {},
   "outputs": [],
   "source": []
  }
 ],
 "metadata": {
  "kernelspec": {
   "display_name": "Python 3 (ipykernel)",
   "language": "python",
   "name": "python3"
  },
  "language_info": {
   "codemirror_mode": {
    "name": "ipython",
    "version": 3
   },
   "file_extension": ".py",
   "mimetype": "text/x-python",
   "name": "python",
   "nbconvert_exporter": "python",
   "pygments_lexer": "ipython3",
   "version": "3.9.13"
  }
 },
 "nbformat": 4,
 "nbformat_minor": 5
}
