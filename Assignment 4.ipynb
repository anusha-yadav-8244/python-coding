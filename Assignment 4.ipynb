{
 "cells": [
  {
   "cell_type": "code",
   "execution_count": null,
   "id": "5356bfb4",
   "metadata": {},
   "outputs": [],
   "source": [
    "#1. Given a list of numbers, write a python program that returns a new list which Has all\n",
    "#duplicate elements removed. And is sorted in an increasing order.\n",
    "#Ex:\n",
    "#Input:\n",
    "#[2,1,3,4,2,3,3,2,7,9,8,7]\n",
    "#Output:\n",
    "#[1,2,3,4,7,8,9]"
   ]
  },
  {
   "cell_type": "code",
   "execution_count": 7,
   "id": "f46711f5",
   "metadata": {},
   "outputs": [
    {
     "data": {
      "text/plain": [
       "[1, 2, 3, 4, 7, 8, 9]"
      ]
     },
     "execution_count": 7,
     "metadata": {},
     "output_type": "execute_result"
    }
   ],
   "source": [
    "l=[2,1,3,4,2,3,3,2,7,9,8,7]\n",
    "l.sort()\n",
    "x=list(s)\n",
    "x"
   ]
  },
  {
   "cell_type": "code",
   "execution_count": null,
   "id": "a619f1c5",
   "metadata": {},
   "outputs": [],
   "source": [
    "#2. Write a Python program where you will iterate over both keys and values in dictionaries"
   ]
  },
  {
   "cell_type": "code",
   "execution_count": 16,
   "id": "3ed3c5c4",
   "metadata": {},
   "outputs": [
    {
     "name": "stdout",
     "output_type": "stream",
     "text": [
      "Female F\n",
      "Male M\n",
      "Other O\n"
     ]
    }
   ],
   "source": [
    "dic={\"Female\":\"F\",\"Male\":\"M\",\"Other\":\"O\"}\n",
    "for keys,values in dic.items():\n",
    "    print(keys,values)\n",
    "\n"
   ]
  },
  {
   "cell_type": "markdown",
   "id": "4b8f6083",
   "metadata": {},
   "source": []
  },
  {
   "cell_type": "code",
   "execution_count": null,
   "id": "41ea388b",
   "metadata": {},
   "outputs": [],
   "source": [
    "#3. Write a Python program that takes a dictionary of student names and returns a list of student names in alphabetical order\n",
    "#Ex:\n",
    "#Input: \n",
    "#{“Student 1”: \"Tarun\", \"Student 2”: \"Manoj\", \"Student 3”: \"Gephi”}\n",
    "#Output:\n",
    " #[“Gephi”,” \n",
    "#Manoj”,” Tarun”]male"
   ]
  },
  {
   "cell_type": "code",
   "execution_count": 21,
   "id": "afeab7d3",
   "metadata": {},
   "outputs": [
    {
     "name": "stdout",
     "output_type": "stream",
     "text": [
      "['Gephi', 'Manoj', 'Tarun']\n"
     ]
    }
   ],
   "source": [
    "dic={\"Student 1\":\"Tarun\",\"Student 2\":\"Manoj\",\"Student 3\":\"Gephi\"}\n",
    "l1=[]\n",
    "for values in dic.values():\n",
    "    l1.append(values)\n",
    "    l1.sort()\n",
    "print(l1)\n"
   ]
  },
  {
   "cell_type": "code",
   "execution_count": null,
   "id": "af096d22",
   "metadata": {},
   "outputs": [],
   "source": [
    "#4. Write a Python which returns a new list of Booleans, from a given number. \n",
    "#Iterating through the number one digit at a time, append True if the digit is 1 and False if it is 0.\n",
    "#Ex:\n",
    "#Input: “01001”\n",
    "#Output: [“False”, “True”, “False”,” False”,” True”"
   ]
  },
  {
   "cell_type": "code",
   "execution_count": 34,
   "id": "afa50d28",
   "metadata": {},
   "outputs": [
    {
     "name": "stdout",
     "output_type": "stream",
     "text": [
      "enter the number101101\n",
      "['True', 'False', 'True', 'True', 'False', 'True']\n"
     ]
    }
   ],
   "source": [
    "binary_numbers=input(\"enter the number\")\n",
    "l=[]\n",
    "for a in binary_numbers:\n",
    "    if a==\"1\":\n",
    "        l.append(\"True\")\n",
    "    elif a==\"0\":\n",
    "        l.append(\"False\")\n",
    "print(l)\n"
   ]
  },
  {
   "cell_type": "code",
   "execution_count": null,
   "id": "349db581",
   "metadata": {},
   "outputs": [],
   "source": [
    "#5.Write a Python program where you will return a dictionary where the keys will be the \n",
    "#character and the values will be the occurrence of the character in the string, and it \n",
    "#should for any string inputs (dynamic)\n",
    "#Ex:\n",
    "#Input: “my name is ame”\n",
    "#Output: {“m”:3,” y”:1,” n”:1,” a”:2,” e”:2,” i”:1,” s”:1}"
   ]
  },
  {
   "cell_type": "code",
   "execution_count": 42,
   "id": "3b3a4854",
   "metadata": {},
   "outputs": [
    {
     "name": "stdout",
     "output_type": "stream",
     "text": [
      "Enter the string : my name is\n",
      "{'m': 2, 'y': 1, 'n': 1, 'a': 1, 'e': 1, 'i': 1, 's': 1}\n"
     ]
    }
   ],
   "source": [
    "x=input(\"Enter the string : \")\n",
    "a=list(x)\n",
    "dict={}\n",
    "for i in a:\n",
    "    dict.update({i:x.count(i)})\n",
    "del dict[\" \"]\n",
    "print(dict)"
   ]
  },
  {
   "cell_type": "code",
   "execution_count": null,
   "id": "f2c7f823",
   "metadata": {},
   "outputs": [],
   "source": [
    "#6.Given a dictionary containing the names and ages of a group of people, return the name of the oldest person\n",
    "#Ex:\n",
    "#Input: {\"Tmma\": 41, \"Ackes\": 45, \"myna\": 15, \"Benthon\": 29}\n",
    "#Output: “Ackes”"
   ]
  },
  {
   "cell_type": "code",
   "execution_count": 63,
   "id": "8c18c024",
   "metadata": {},
   "outputs": [
    {
     "name": "stdout",
     "output_type": "stream",
     "text": [
      "Ackes\n"
     ]
    }
   ],
   "source": [
    "dic={\"Tmma\": 41, \"Ackes\": 45, \"myna\": 15, \"Benthon\": 29}\n",
    "l=list(dic.values())\n",
    "l.sort()\n",
    "max=l[-1]\n",
    "for y,z in dic.items():\n",
    "    if dic[y]==max:\n",
    "        print(y)"
   ]
  },
  {
   "cell_type": "code",
   "execution_count": null,
   "id": "e558b859",
   "metadata": {},
   "outputs": [],
   "source": [
    "#7.Write a Python program to create a Rock, Paper, Scissor game, use two inputs for two players:\n",
    "#Conditions: -Rock beats Scissors, Scissors beats Paper, Paper beats Rock"
   ]
  },
  {
   "cell_type": "code",
   "execution_count": 65,
   "id": "f48a8271",
   "metadata": {},
   "outputs": [
    {
     "name": "stdout",
     "output_type": "stream",
     "text": [
      "Enter your choice: rock\n",
      "Enter your choice: paper\n",
      "p2 win\n"
     ]
    }
   ],
   "source": [
    "x=input(\"Enter your choice: \")\n",
    "y=input(\"Enter your choice: \")\n",
    "if x==y:\n",
    "    print(\"play again\")\n",
    "elif x==\"rock\" and y==\"paper\" or x==\"paper\" and y==\"scissor\" or x==\"scissor\" and y==\"paper\":\n",
    "    print(\"p2 win\")\n",
    "elif x==\"rock\" and y==\"scissor\" or x==\"paper\" and y==\"rock\" or x==\"scissor\" and y==\"rock\":\n",
    "    print(\"p1 win\")\n",
    "else:\n",
    "    print(\"wrong input\")"
   ]
  },
  {
   "cell_type": "code",
   "execution_count": null,
   "id": "43b6fa6d",
   "metadata": {},
   "outputs": [],
   "source": [
    "#8.Create a program that returns a list of items that you can afford in the store with the \n",
    "#money you have in your wallet. Create a dictionary with items as key and price as values\n",
    "#Ex:\n",
    "#Input: \n",
    "#{“water bottles”: “20”,” chips”:10,” Iphone”;49000“,” towel”:90,” pens”:58,” cake”;400}\n",
    "#Your wallet balance: -50\n",
    "#Output: [“water bottles”, “chips”]"
   ]
  },
  {
   "cell_type": "code",
   "execution_count": 71,
   "id": "6a385306",
   "metadata": {},
   "outputs": [
    {
     "name": "stdout",
     "output_type": "stream",
     "text": [
      "80\n",
      "['water bottles', 'chips', 'pens']\n"
     ]
    }
   ],
   "source": [
    "dic={\"water bottles\": 20,\"chips\":10,\"Iphone\":49000, \"towel\":90,\"pens\":58,\"cake\":400}\n",
    "money=int(input())\n",
    "l=[]\n",
    "for y,z in dic.items():\n",
    "    if z<=money:\n",
    "        l.append(y)\n",
    "print(l)\n"
   ]
  },
  {
   "cell_type": "code",
   "execution_count": null,
   "id": "05107bb4",
   "metadata": {},
   "outputs": [],
   "source": [
    "#9.Write a Python program to create a union of sets\n"
   ]
  },
  {
   "cell_type": "code",
   "execution_count": 72,
   "id": "2f9a6254",
   "metadata": {},
   "outputs": [
    {
     "data": {
      "text/plain": [
       "{1, 2, 3, 5, 6, 7}"
      ]
     },
     "execution_count": 72,
     "metadata": {},
     "output_type": "execute_result"
    }
   ],
   "source": [
    "x={1,2,3}\n",
    "y={5,6,7}\n",
    "x.union(y)"
   ]
  },
  {
   "cell_type": "code",
   "execution_count": null,
   "id": "3b0b022d",
   "metadata": {},
   "outputs": [],
   "source": [
    "#10. Write a Python program to check if a given value is present in a set or not\n",
    "#(Dynamic)\n"
   ]
  },
  {
   "cell_type": "code",
   "execution_count": 79,
   "id": "c7cf7db5",
   "metadata": {},
   "outputs": [
    {
     "name": "stdout",
     "output_type": "stream",
     "text": [
      "2\n",
      "value is present\n"
     ]
    }
   ],
   "source": [
    "set={1,2,3,4}\n",
    "x=int(input())\n",
    "for i in set:\n",
    "    if i==x:\n",
    "        print(\"value is present\")"
   ]
  },
  {
   "cell_type": "code",
   "execution_count": null,
   "id": "12db0e28",
   "metadata": {},
   "outputs": [],
   "source": [
    "#11.Write a Python program to find the occurrences of 3 most common words in a given text. And make it as a dictionaries\n",
    "#Ex:\n",
    "#Input:\n",
    "#” Cat dog dog cat horse dog dog mouse horse dog mouse tiger lion tiger cat mouse snail”\n",
    "#Output: (“dog”:5,”cat”:3,” mouse”;3)"
   ]
  },
  {
   "cell_type": "code",
   "execution_count": 81,
   "id": "fe5734e2",
   "metadata": {},
   "outputs": [
    {
     "name": "stdout",
     "output_type": "stream",
     "text": [
      "{'cat': 3, 'dog': 5, 'mouse': 3}\n"
     ]
    }
   ],
   "source": [
    "text=\"cat dog dog cat horse dog dog mouse horse dog mouse tiger lion tiger cat mouse snail\"\n",
    "text1=text.split()\n",
    "text1\n",
    "l=[]\n",
    "dict={}\n",
    "for i in text1:\n",
    "    if text1.count(i)>2:\n",
    "        if i in dict:\n",
    "            dict[i]+=1\n",
    "        else:\n",
    "            dict[i]=1\n",
    "print(dict)"
   ]
  },
  {
   "cell_type": "code",
   "execution_count": null,
   "id": "79931893",
   "metadata": {},
   "outputs": [],
   "source": [
    "#12.Write a Python program that accepts name of given subject and mark, and \n",
    "#make subjects as keys in dictionaries and marks as values and print the final\n",
    "#dictionary with subjects and marks\n"
   ]
  },
  {
   "cell_type": "code",
   "execution_count": 97,
   "id": "29ca4794",
   "metadata": {},
   "outputs": [
    {
     "name": "stdout",
     "output_type": "stream",
     "text": [
      "{'english': 56, 'hindi': 98, 'telugu': 75, 'social': 66}\n"
     ]
    }
   ],
   "source": [
    "list1=[\"english\",\"hindi\",\"telugu\",\"social\"]\n",
    "list2=[56,98,75,66]\n",
    "dict1={}\n",
    "for i in range(len(list1)):\n",
    "    dict1.update({list1[i]:list2[i]})\n",
    "print(dict1)\n"
   ]
  },
  {
   "cell_type": "code",
   "execution_count": null,
   "id": "05ad105d",
   "metadata": {},
   "outputs": [],
   "source": []
  }
 ],
 "metadata": {
  "kernelspec": {
   "display_name": "Python 3 (ipykernel)",
   "language": "python",
   "name": "python3"
  },
  "language_info": {
   "codemirror_mode": {
    "name": "ipython",
    "version": 3
   },
   "file_extension": ".py",
   "mimetype": "text/x-python",
   "name": "python",
   "nbconvert_exporter": "python",
   "pygments_lexer": "ipython3",
   "version": "3.9.13"
  }
 },
 "nbformat": 4,
 "nbformat_minor": 5
}
