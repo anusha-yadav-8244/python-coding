{
 "cells": [
  {
   "cell_type": "code",
   "execution_count": 18,
   "id": "ea2b47c1",
   "metadata": {},
   "outputs": [
    {
     "name": "stdout",
     "output_type": "stream",
     "text": [
      " *** \n",
      "*   *\n",
      " ***  *\n",
      "     \n",
      "     \n"
     ]
    }
   ],
   "source": [
    "for a in range(1,10):\n",
    "    if a==1:\n",
    "        print(\" *** \")\n",
    "    elif a==2:\n",
    "        print(\"*   *\")\n",
    "    elif a==3:\n",
    "        print(\" ***  *\")\n",
    "    elif a==4:\n",
    "        print(\"     \")\n",
    "    elif a==5:\n",
    "        print(\"     \")\n",
    "    a=a+1\n",
    "        "
   ]
  },
  {
   "cell_type": "code",
   "execution_count": 4,
   "id": "e5957f81",
   "metadata": {},
   "outputs": [
    {
     "name": "stdout",
     "output_type": "stream",
     "text": [
      "* \n",
      "*   \n",
      "*****\n",
      "*   *\n",
      "*****\n"
     ]
    }
   ],
   "source": [
    "for a in range(1,10):\n",
    "    if a==1:\n",
    "        print(\"* \")\n",
    "    elif a==2:\n",
    "        print(\"*   \")\n",
    "    elif a==3:\n",
    "        print(\"*****\")\n",
    "    elif a==4:\n",
    "        print(\"*   *\")\n",
    "    elif a==5:\n",
    "        print(\"*****\")\n",
    "    a=a+1\n",
    "        "
   ]
  },
  {
   "cell_type": "code",
   "execution_count": 5,
   "id": "437f029f",
   "metadata": {},
   "outputs": [
    {
     "name": "stdout",
     "output_type": "stream",
     "text": [
      "******\n",
      "*   \n",
      "* \n",
      "******\n"
     ]
    }
   ],
   "source": [
    "for a in range(1,10):\n",
    "    if a==1:\n",
    "        print(\"******\")\n",
    "    elif a==2:\n",
    "        print(\"*   \")\n",
    "    elif a==3:\n",
    "        print(\"* \")\n",
    "    elif a==4:\n",
    "        print(\"******\")\n",
    "    a=a+1\n",
    "        "
   ]
  },
  {
   "cell_type": "code",
   "execution_count": 6,
   "id": "caae28c7",
   "metadata": {},
   "outputs": [
    {
     "name": "stdout",
     "output_type": "stream",
     "text": [
      "     *\n",
      "     *\n",
      "******\n",
      "*    *\n",
      "******\n"
     ]
    }
   ],
   "source": [
    "for a in range(1,10):\n",
    "    if a==1:\n",
    "        print(\"     *\")\n",
    "    elif a==2:\n",
    "        print(\"     *\")\n",
    "    elif a==3:\n",
    "        print(\"******\")\n",
    "    elif a==4:\n",
    "        print(\"*    *\")\n",
    "    elif a==5:\n",
    "        print(\"******\")\n",
    "    a=a+1\n",
    "        "
   ]
  },
  {
   "cell_type": "code",
   "execution_count": 11,
   "id": "d59b16cb",
   "metadata": {},
   "outputs": [
    {
     "name": "stdout",
     "output_type": "stream",
     "text": [
      " **** \n",
      "*    *\n",
      "******\n",
      "*    \n",
      " *****\n"
     ]
    }
   ],
   "source": [
    "for a in range(1,10):\n",
    "    if a==1:\n",
    "        print(\" **** \")\n",
    "    elif a==2:\n",
    "        print(\"*    *\")\n",
    "    elif a==3:\n",
    "        print(\"******\")\n",
    "    elif a==4:\n",
    "        print(\"*    \")\n",
    "    elif a==5:\n",
    "        print(\" *****\")\n",
    "    a=a+1\n",
    "        "
   ]
  },
  {
   "cell_type": "code",
   "execution_count": 15,
   "id": "d24b88c5",
   "metadata": {},
   "outputs": [
    {
     "name": "stdout",
     "output_type": "stream",
     "text": [
      "     ****\n",
      "    *     *\n",
      "    *      \n",
      "  ******    \n",
      "    * \n",
      "    *  \n"
     ]
    }
   ],
   "source": [
    "for a in range(1,10):\n",
    "    if a==1:\n",
    "        print(\"     ****\")\n",
    "    elif a==2:\n",
    "        print(\"    *     *\")\n",
    "    elif a==3:\n",
    "        print(\"    *      \")\n",
    "    elif a==4:\n",
    "        print(\"  ******    \")\n",
    "    elif a==5:\n",
    "        print(\"    * \")\n",
    "    elif a==6:\n",
    "        print(\"    *  \")\n",
    "    a=a+1\n",
    "        "
   ]
  },
  {
   "cell_type": "code",
   "execution_count": 2,
   "id": "8c50914c",
   "metadata": {},
   "outputs": [
    {
     "name": "stdout",
     "output_type": "stream",
     "text": [
      " *** \n",
      "*   *\n",
      " ****\n",
      "    *\n",
      "*   *\n",
      " *** \n"
     ]
    }
   ],
   "source": [
    "for a in range(1,10):\n",
    "    if a==1:\n",
    "        print(\" *** \")\n",
    "    elif a==2:\n",
    "        print(\"*   *\")\n",
    "    elif a==3:\n",
    "        print(\" ****\")\n",
    "    elif a==4:\n",
    "        print(\"    *\")\n",
    "    elif a==5:\n",
    "        print(\"*   *\") \n",
    "    elif a==6:\n",
    "        print(\" *** \")\n",
    "        \n",
    "    a=a+1\n",
    "        "
   ]
  },
  {
   "cell_type": "code",
   "execution_count": 20,
   "id": "7dc856c2",
   "metadata": {},
   "outputs": [
    {
     "name": "stdout",
     "output_type": "stream",
     "text": [
      "* \n",
      "*   \n",
      "*****\n",
      "*   *\n",
      "*   *\n"
     ]
    }
   ],
   "source": [
    "for a in range(1,10):\n",
    "    if a==1:\n",
    "        print(\"* \")\n",
    "    elif a==2:\n",
    "        print(\"*   \")\n",
    "    elif a==3:\n",
    "        print(\"*****\")\n",
    "    elif a==4:\n",
    "        print(\"*   *\")\n",
    "    elif a==5:\n",
    "        print(\"*   *\")\n",
    "    a=a+1\n",
    "        "
   ]
  },
  {
   "cell_type": "code",
   "execution_count": 12,
   "id": "ac66b19b",
   "metadata": {},
   "outputs": [
    {
     "name": "stdout",
     "output_type": "stream",
     "text": [
      "  ***\n",
      "   \n",
      "   *  \n",
      "   *  \n",
      "   *\n",
      "   *\n"
     ]
    }
   ],
   "source": [
    "for a in range(1,10):\n",
    "    if a==1:\n",
    "        print(\"  ***\")\n",
    "    elif a==2:\n",
    "        print(\"   \")\n",
    "    elif a==3:\n",
    "        print(\"   *  \")\n",
    "    elif a==4:\n",
    "        print(\"   *  \")\n",
    "    elif a==5:\n",
    "        print(\"   *\")\n",
    "    elif a==6:\n",
    "        print(\"   *\")\n",
    "    a=a+1\n",
    "        "
   ]
  },
  {
   "cell_type": "code",
   "execution_count": 15,
   "id": "3c427ab0",
   "metadata": {},
   "outputs": [
    {
     "name": "stdout",
     "output_type": "stream",
     "text": [
      "       ***\n",
      "          \n",
      "        *\n",
      "        *  \n",
      "        *\n",
      "   *    *\n",
      "    **** \n"
     ]
    }
   ],
   "source": [
    "for a in range(1,10):\n",
    "    if a==1:\n",
    "        print(\"       ***\")\n",
    "    elif a==2:\n",
    "        print(\"          \")\n",
    "    elif a==3:\n",
    "        print(\"        *\")\n",
    "    elif a==4: \n",
    "        print(\"        *  \")\n",
    "    elif a==5:\n",
    "        print(\"        *\")\n",
    "    elif a==6:\n",
    "        print(\"   *    *\")\n",
    "    elif a==7:\n",
    "        print(\"    **** \")\n",
    "    a=a+1"
   ]
  },
  {
   "cell_type": "code",
   "execution_count": 11,
   "id": "31febf23",
   "metadata": {},
   "outputs": [
    {
     "name": "stdout",
     "output_type": "stream",
     "text": [
      "*\n",
      "*  *\n",
      "**\n",
      "*  *\n",
      "\n"
     ]
    }
   ],
   "source": [
    "for a in range(1,10):\n",
    "    if a==1:\n",
    "        print(\"*\")\n",
    "    elif a==2:\n",
    "        print(\"*\")\n",
    "    elif a==3:\n",
    "        print(\"*\")\n",
    "    elif a==4:\n",
    "        print(\"*\")\n",
    "    elif a==5:\n",
    "        print(\"*\")\n",
    "    elif a==6:\n",
    "        print(\"  *\")\n",
    "    a=a+1"
   ]
  },
  {
   "cell_type": "code",
   "execution_count": 18,
   "id": "ab7b4353",
   "metadata": {},
   "outputs": [
    {
     "name": "stdout",
     "output_type": "stream",
     "text": [
      " *\n",
      " *\n",
      " *\n",
      " *\n",
      " *\n",
      " *\n"
     ]
    }
   ],
   "source": [
    "for a in range(1,10):\n",
    "    if a==1:\n",
    "        print(\" *\")\n",
    "    elif a==2:\n",
    "        print(\" *\")\n",
    "    elif a==3:\n",
    "        print(\" *\")\n",
    "    elif a==4:\n",
    "        print(\" *\")\n",
    "    elif a==5:\n",
    "        print(\" *\")\n",
    "    elif a==6:\n",
    "        print(\" *\")\n",
    "    a=a+1"
   ]
  },
  {
   "cell_type": "code",
   "execution_count": 28,
   "id": "d70c0295",
   "metadata": {},
   "outputs": [
    {
     "name": "stdout",
     "output_type": "stream",
     "text": [
      " \n",
      "* \n",
      "  * ******* * \n",
      "  *    *    *\n",
      "  *    *    *\n"
     ]
    }
   ],
   "source": [
    "for a in range(1,10):\n",
    "    \n",
    "    if a==1:\n",
    "        print(\" \")\n",
    "    elif a==2:\n",
    "        print(\"* \")\n",
    "    elif a==3: \n",
    "        print(\"  * ******* * \")\n",
    "    elif a==4:\n",
    "        print(\"  *    *    *\")\n",
    "    elif a==5:\n",
    "        print(\"  *    *    *\")\n",
    "    a=a+1"
   ]
  },
  {
   "cell_type": "code",
   "execution_count": 35,
   "id": "145cbc4f",
   "metadata": {},
   "outputs": [
    {
     "name": "stdout",
     "output_type": "stream",
     "text": [
      "*\n",
      " * *  * *\n",
      " *       *\n",
      " *       *\n"
     ]
    }
   ],
   "source": [
    "for a in range(1,10):\n",
    "    if a==1:\n",
    "        print(\"*\")\n",
    "    elif a==2:\n",
    "        print(\" * *  * *\")\n",
    "    elif a==3:\n",
    "        print(\" *       *\")\n",
    "    elif a==4:\n",
    "        print(\" *       *\")\n",
    "    \n",
    "    a=a+1"
   ]
  },
  {
   "cell_type": "code",
   "execution_count": 37,
   "id": "1985e0c3",
   "metadata": {},
   "outputs": [
    {
     "name": "stdout",
     "output_type": "stream",
     "text": [
      "   * * *\n",
      " *       *\n",
      " *       *\n",
      "  * * *\n"
     ]
    }
   ],
   "source": [
    "for a in range(1,10):\n",
    "    if a==1:\n",
    "        print(\"   * * *\")\n",
    "    elif a==2:\n",
    "        print(\" *       *\")\n",
    "    elif a==3:\n",
    "        print(\" *       *\")\n",
    "    elif a==4:\n",
    "        print(\"  * * *\")\n",
    "   \n",
    "    a=a+1"
   ]
  },
  {
   "cell_type": "code",
   "execution_count": 38,
   "id": "3f529e53",
   "metadata": {},
   "outputs": [
    {
     "name": "stdout",
     "output_type": "stream",
     "text": [
      " *\n",
      " * * * *\n",
      " *      *\n",
      " * * * *\n",
      " *\n",
      " *\n"
     ]
    }
   ],
   "source": [
    "for a in range(1,10):\n",
    "    if a==1:\n",
    "        print(\" *\")\n",
    "    elif a==2:\n",
    "        print(\" * * * *\")\n",
    "    elif a==3:\n",
    "        print(\" *      *\")\n",
    "    elif a==4:\n",
    "        print(\" * * * *\")\n",
    "    elif a==5:\n",
    "        print(\" *\")\n",
    "    elif a==6:\n",
    "        print(\" *\")\n",
    "    a=a+1"
   ]
  },
  {
   "cell_type": "code",
   "execution_count": 47,
   "id": "c0845809",
   "metadata": {},
   "outputs": [
    {
     "name": "stdout",
     "output_type": "stream",
     "text": [
      "      \n",
      " **** \n",
      "*    *\n",
      " *****\n",
      "     *\n",
      "     *  *\n",
      "     **\n"
     ]
    }
   ],
   "source": [
    "for a in range(1,10):\n",
    "    if a==1: \n",
    "        print(\"      \")\n",
    "    elif a==2:\n",
    "        print(\" **** \")\n",
    "    elif a==3:\n",
    "        print(\"*    *\")\n",
    "    elif a==4:\n",
    "        print(\" *****\")\n",
    "    elif a==5:\n",
    "        print(\"     *\")\n",
    "    elif a==6:\n",
    "        print(\"     *  *\")\n",
    "    elif a==7:\n",
    "        print(\"     **\")\n",
    "    a=a+1 "
   ]
  },
  {
   "cell_type": "code",
   "execution_count": 53,
   "id": "f5a7a174",
   "metadata": {},
   "outputs": [
    {
     "name": "stdout",
     "output_type": "stream",
     "text": [
      "*     *\n",
      "   * \n",
      " *   *\n",
      " * * * \n",
      " \n",
      " \n"
     ]
    }
   ],
   "source": [
    "for a in range(1,10):\n",
    "    if a==1:\n",
    "        print(\"*     *\")\n",
    "    elif a==2:\n",
    "        print(\"   * \")\n",
    "    elif a==3:\n",
    "        print(\" *   *\")\n",
    "    elif a==4:\n",
    "        print(\" * * * \")\n",
    "    elif a==5:\n",
    "        print(\" \")\n",
    "    elif a==6:\n",
    "        print(\" \")\n",
    "    a=a+1"
   ]
  },
  {
   "cell_type": "code",
   "execution_count": 58,
   "id": "6b2ce976",
   "metadata": {},
   "outputs": [
    {
     "name": "stdout",
     "output_type": "stream",
     "text": [
      " * * *\n",
      "*    \n",
      "   *\n",
      "     *  \n",
      "* * *\n",
      " \n"
     ]
    }
   ],
   "source": [
    "for a in range(1,10):\n",
    "    if a==1:\n",
    "        print(\" * * *\")\n",
    "    elif a==2:\n",
    "        print(\"*    \")\n",
    "    elif a==3:\n",
    "        print(\"   *\")\n",
    "    elif a==4:\n",
    "        print(\"     *  \")\n",
    "    elif a==5:\n",
    "        print(\"* * *\")\n",
    "    elif a==6:\n",
    "        print(\" \")\n",
    "    a=a+1"
   ]
  },
  {
   "cell_type": "code",
   "execution_count": 61,
   "id": "5b04c29b",
   "metadata": {},
   "outputs": [
    {
     "name": "stdout",
     "output_type": "stream",
     "text": [
      "   *\n",
      "   * * * \n",
      "   *\n",
      "   *        \n",
      "   *     *\n",
      "    * * *\n"
     ]
    }
   ],
   "source": [
    "for a in range(1,10):\n",
    "    if a==1:\n",
    "        print(\"   *\")\n",
    "    elif a==2:\n",
    "        print(\"   * * * \")\n",
    "    elif a==3:\n",
    "        print(\"   *\")\n",
    "    elif a==4:\n",
    "        print(\"   *        \")\n",
    "    elif a==5:\n",
    "        print(\"   *     *\")\n",
    "    elif a==6:\n",
    "        print(\"    * * *\")\n",
    "    a=a+1"
   ]
  },
  {
   "cell_type": "code",
   "execution_count": 4,
   "id": "bc59d815",
   "metadata": {},
   "outputs": [
    {
     "name": "stdout",
     "output_type": "stream",
     "text": [
      "*     *\n",
      "*     *\n",
      "* * * *\n",
      "       * *\n",
      " \n",
      " \n"
     ]
    }
   ],
   "source": [
    "for a in range(1,10):\n",
    "    if a==1:\n",
    "        print(\"*     *\")\n",
    "    elif a==2:\n",
    "        print(\"*     *\")\n",
    "    elif a==3:\n",
    "        print(\"* * * *\")\n",
    "    elif a==4:\n",
    "        print(\"       * *\")\n",
    "    elif a==5:\n",
    "        print(\" \")\n",
    "    elif a==6:\n",
    "        print(\" \")\n",
    "    a=a+1"
   ]
  },
  {
   "cell_type": "code",
   "execution_count": 5,
   "id": "a7490233",
   "metadata": {},
   "outputs": [
    {
     "name": "stdout",
     "output_type": "stream",
     "text": [
      "*     *\n",
      "*     *\n",
      "  **\n",
      "       \n",
      " \n",
      " \n"
     ]
    }
   ],
   "source": [
    "for a in range(1,10):\n",
    "    if a==1:\n",
    "        print(\"*     *\")\n",
    "    elif a==2:\n",
    "        print(\"*     *\")\n",
    "    elif a==3:\n",
    "        print(\"  **\")\n",
    "    elif a==4:\n",
    "        print(\"       \")\n",
    "    elif a==5:\n",
    "        print(\" \")\n",
    "    elif a==6:\n",
    "        print(\" \")\n",
    "    a=a+1"
   ]
  },
  {
   "cell_type": "code",
   "execution_count": 10,
   "id": "a2f6590b",
   "metadata": {},
   "outputs": [
    {
     "name": "stdout",
     "output_type": "stream",
     "text": [
      "*     *\n",
      "*  *  *\n",
      "*** ***\n",
      "       \n",
      " \n",
      " \n"
     ]
    }
   ],
   "source": [
    "for a in range(1,10):\n",
    "    if a==1:\n",
    "        print(\"*     *\")\n",
    "    elif a==2:\n",
    "        print(\"*  *  *\")\n",
    "    elif a==3:\n",
    "        print(\"*** ***\")\n",
    "    elif a==4:\n",
    "        print(\"       \")\n",
    "    elif a==5:\n",
    "        print(\" \")\n",
    "    elif a==6:\n",
    "        print(\" \")\n",
    "    a=a+1"
   ]
  },
  {
   "cell_type": "code",
   "execution_count": 12,
   "id": "d18228df",
   "metadata": {},
   "outputs": [
    {
     "name": "stdout",
     "output_type": "stream",
     "text": [
      "*     *\n",
      "   *  \n",
      "   *  \n",
      "*     *\n",
      " \n",
      " \n"
     ]
    }
   ],
   "source": [
    "for a in range(1,10):\n",
    "    if a==1:\n",
    "        print(\"*     *\")\n",
    "    elif a==2:\n",
    "        print(\"   *  \")\n",
    "    elif a==3:\n",
    "        print(\"   *  \")\n",
    "    elif a==4:\n",
    "        print(\"*     *\")\n",
    "    elif a==5:\n",
    "        print(\" \")\n",
    "    elif a==6:\n",
    "        print(\" \")\n",
    "    a=a+1"
   ]
  },
  {
   "cell_type": "code",
   "execution_count": 14,
   "id": "b9f89ae4",
   "metadata": {},
   "outputs": [
    {
     "name": "stdout",
     "output_type": "stream",
     "text": [
      "*     *\n",
      "*     *\n",
      "* * * *\n",
      "      *\n",
      "*     *\n",
      "*******\n"
     ]
    }
   ],
   "source": [
    "for a in range(1,10):\n",
    "    if a==1:\n",
    "        print(\"*     *\")\n",
    "    elif a==2:\n",
    "        print(\"*     *\")\n",
    "    elif a==3:\n",
    "        print(\"* * * *\")\n",
    "    elif a==4:\n",
    "        print(\"      *\")\n",
    "    elif a==5:\n",
    "        print(\"*     *\")\n",
    "    elif a==6:\n",
    "        print(\"*******\")\n",
    "    a=a+1"
   ]
  },
  {
   "cell_type": "code",
   "execution_count": 16,
   "id": "b1bb6896",
   "metadata": {},
   "outputs": [
    {
     "name": "stdout",
     "output_type": "stream",
     "text": [
      "* * * *\n",
      "      *\n",
      "    *  \n",
      "      *\n",
      "* * * * \n",
      "*\n"
     ]
    }
   ],
   "source": [
    "for a in range(1,10):\n",
    "    if a==1:\n",
    "        print(\"* * * *\")\n",
    "    elif a==2:\n",
    "        print(\"      *\")\n",
    "    elif a==3:\n",
    "        print(\"    *  \")\n",
    "    elif a==4:\n",
    "        print(\"      *\")\n",
    "    elif a==5:\n",
    "        print(\"* * * * \")\n",
    "    elif a==6:\n",
    "        print(\"*\")\n",
    "    a=a+1"
   ]
  },
  {
   "cell_type": "code",
   "execution_count": null,
   "id": "62763505",
   "metadata": {},
   "outputs": [],
   "source": []
  }
 ],
 "metadata": {
  "kernelspec": {
   "display_name": "Python 3 (ipykernel)",
   "language": "python",
   "name": "python3"
  },
  "language_info": {
   "codemirror_mode": {
    "name": "ipython",
    "version": 3
   },
   "file_extension": ".py",
   "mimetype": "text/x-python",
   "name": "python",
   "nbconvert_exporter": "python",
   "pygments_lexer": "ipython3",
   "version": "3.9.13"
  }
 },
 "nbformat": 4,
 "nbformat_minor": 5
}
