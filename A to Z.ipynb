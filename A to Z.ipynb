{
 "cells": [
  {
   "cell_type": "code",
   "execution_count": 65,
   "id": "ca5e97f1",
   "metadata": {},
   "outputs": [
    {
     "name": "stdout",
     "output_type": "stream",
     "text": [
      " *** \n",
      "*   *\n",
      "*****\n",
      "*   *\n",
      "*   *\n"
     ]
    }
   ],
   "source": [
    "a=1\n",
    "while a<=5:\n",
    "    if a==1:\n",
    "        print(\" *** \")\n",
    "    elif a==2:\n",
    "        print(\"*   *\")\n",
    "    elif a==3:\n",
    "        print(\"*****\")\n",
    "    elif a==4:\n",
    "        print(\"*   *\")\n",
    "    elif a==5:\n",
    "        print(\"*   *\")\n",
    "    a=a+1\n",
    "        "
   ]
  },
  {
   "cell_type": "code",
   "execution_count": 2,
   "id": "8fda4c78",
   "metadata": {},
   "outputs": [
    {
     "name": "stdout",
     "output_type": "stream",
     "text": [
      "*****\n",
      "*    *\n",
      "****\n",
      "*    *\n",
      "*****\n"
     ]
    }
   ],
   "source": [
    "a=1\n",
    "while a<=5:\n",
    "    if a==1:\n",
    "        print(\"*****\")\n",
    "    elif a==2:\n",
    "        print(\"*    *\")\n",
    "    elif a==3:\n",
    "        print(\"****\")\n",
    "    elif a==4:\n",
    "        print(\"*    *\")\n",
    "    elif a==5:\n",
    "        print(\"*****\")\n",
    "    a=a+1\n",
    "        "
   ]
  },
  {
   "cell_type": "code",
   "execution_count": 3,
   "id": "92348228",
   "metadata": {},
   "outputs": [
    {
     "name": "stdout",
     "output_type": "stream",
     "text": [
      "*****\n",
      "*    \n",
      "*    \n",
      "*    \n",
      "*****\n"
     ]
    }
   ],
   "source": [
    "a=1\n",
    "while a<=5:\n",
    "    if a==1:\n",
    "        print(\"*****\")\n",
    "    elif a==2:\n",
    "        print(\"*    \")\n",
    "    elif a==3:\n",
    "        print(\"*    \")\n",
    "    elif a==4:\n",
    "        print(\"*    \")\n",
    "    elif a==5:\n",
    "        print(\"*****\")\n",
    "    a=a+1\n",
    "        "
   ]
  },
  {
   "cell_type": "code",
   "execution_count": 4,
   "id": "8a4b1a1c",
   "metadata": {},
   "outputs": [
    {
     "name": "stdout",
     "output_type": "stream",
     "text": [
      "*****\n",
      "*     *\n",
      "*      *\n",
      "*     *\n",
      "*****\n"
     ]
    }
   ],
   "source": [
    "a=1\n",
    "while a<=5:\n",
    "    if a==1:\n",
    "        print(\"*****\")\n",
    "    elif a==2:\n",
    "        print(\"*     *\")\n",
    "    elif a==3:\n",
    "        print(\"*      *\")\n",
    "    elif a==4:\n",
    "        print(\"*     *\")\n",
    "    elif a==5:\n",
    "        print(\"*****\")\n",
    "    a=a+1\n",
    "        "
   ]
  },
  {
   "cell_type": "code",
   "execution_count": 5,
   "id": "fb9cba96",
   "metadata": {},
   "outputs": [
    {
     "name": "stdout",
     "output_type": "stream",
     "text": [
      "*****\n",
      "*    \n",
      "*****\n",
      "*    \n",
      "*****\n"
     ]
    }
   ],
   "source": [
    "a=1\n",
    "while a<=5:\n",
    "    if a==1:\n",
    "        print(\"*****\")\n",
    "    elif a==2:\n",
    "        print(\"*    \")\n",
    "    elif a==3:\n",
    "        print(\"*****\")\n",
    "    elif a==4:\n",
    "        print(\"*    \")\n",
    "    elif a==5:\n",
    "        print(\"*****\")\n",
    "    a=a+1"
   ]
  },
  {
   "cell_type": "code",
   "execution_count": 6,
   "id": "7e6f36bc",
   "metadata": {},
   "outputs": [
    {
     "name": "stdout",
     "output_type": "stream",
     "text": [
      "*****\n",
      "*     \n",
      "*****\n",
      "*    \n",
      "*    \n"
     ]
    }
   ],
   "source": [
    "a=1\n",
    "while a<=5:\n",
    "    if a==1:\n",
    "        print(\"*****\")\n",
    "    elif a==2:\n",
    "        print(\"*     \")\n",
    "    elif a==3:\n",
    "        print(\"*****\")\n",
    "    elif a==4:\n",
    "        print(\"*    \")\n",
    "    elif a==5:\n",
    "        print(\"*    \")\n",
    "    a=a+1\n",
    "        "
   ]
  },
  {
   "cell_type": "code",
   "execution_count": 93,
   "id": "5cbeee16",
   "metadata": {},
   "outputs": [
    {
     "name": "stdout",
     "output_type": "stream",
     "text": [
      " * * *\n",
      "*    \n",
      "*   **** \n",
      "*    * * \n",
      "  ***  *\n",
      "       *\n"
     ]
    }
   ],
   "source": [
    "a=1\n",
    "while a<=6:\n",
    "    if a==1:\n",
    "        print(\" * * *\")\n",
    "    elif a==2:\n",
    "        print(\"*    \")\n",
    "    elif a==3:\n",
    "        print(\"*   **** \")\n",
    "    elif a==4:\n",
    "        print(\"*    * * \")\n",
    "    elif a==5:\n",
    "        print(\"  ***  *\")\n",
    "    elif a==6:\n",
    "        print(\"       *\")\n",
    "        \n",
    "    \n",
    "    a=a+1\n",
    "        "
   ]
  },
  {
   "cell_type": "code",
   "execution_count": 8,
   "id": "9b321d01",
   "metadata": {},
   "outputs": [
    {
     "name": "stdout",
     "output_type": "stream",
     "text": [
      "*   *\n",
      "*   *\n",
      "*****\n",
      "*   *\n",
      "*   *\n"
     ]
    }
   ],
   "source": [
    "a=1\n",
    "while a<=5:\n",
    "    if a==1:\n",
    "        print(\"*   *\")\n",
    "    elif a==2:\n",
    "        print(\"*   *\")\n",
    "    elif a==3:\n",
    "        print(\"*****\")\n",
    "    elif a==4:\n",
    "        print(\"*   *\")\n",
    "    elif a==5:\n",
    "        print(\"*   *\")\n",
    "    a=a+1"
   ]
  },
  {
   "cell_type": "code",
   "execution_count": 5,
   "id": "02fea65e",
   "metadata": {},
   "outputs": [
    {
     "name": "stdout",
     "output_type": "stream",
     "text": [
      "*****\n",
      "  *  \n",
      "  *  \n",
      "  *  \n",
      "*****\n"
     ]
    }
   ],
   "source": [
    "a=1\n",
    "while a<=5:\n",
    "    if a==1:\n",
    "        print(\"*****\")\n",
    "    elif a==2:\n",
    "        print(\"  *  \")\n",
    "    elif a==3:\n",
    "        print(\"  *  \")\n",
    "    elif a==4:\n",
    "        print(\"  *  \")\n",
    "    elif a==5:\n",
    "        print(\"*****\")\n",
    "    a=a+1\n",
    "        "
   ]
  },
  {
   "cell_type": "code",
   "execution_count": 7,
   "id": "993f4af8",
   "metadata": {},
   "outputs": [
    {
     "name": "stdout",
     "output_type": "stream",
     "text": [
      "*********\n",
      "    *\n",
      "    *\n",
      "*   *\n",
      "****\n"
     ]
    }
   ],
   "source": [
    "a=1\n",
    "while a<=5:\n",
    "    if a==1:\n",
    "        print(\"*********\")\n",
    "    elif a==2:\n",
    "        print(\"    *\")\n",
    "    elif a==3:\n",
    "        print(\"    *\")\n",
    "    elif a==4:\n",
    "        print(\"*   *\")\n",
    "    elif a==5:\n",
    "        print(\"****\")\n",
    "    a=a+1"
   ]
  },
  {
   "cell_type": "code",
   "execution_count": 3,
   "id": "7f498656",
   "metadata": {},
   "outputs": [
    {
     "name": "stdout",
     "output_type": "stream",
     "text": [
      "*    *\n",
      "*   *\n",
      "***\n",
      "*   *\n",
      "*    *\n"
     ]
    }
   ],
   "source": [
    "a=1\n",
    "while a<=5:\n",
    "    if a==1:\n",
    "        print(\"*    *\")\n",
    "    elif a==2:\n",
    "        print(\"*   *\")\n",
    "    elif a==3:\n",
    "        print(\"***\")\n",
    "    elif a==4:\n",
    "        print(\"*   *\")\n",
    "    elif a==5:\n",
    "        print(\"*    *\")\n",
    "    a=a+1\n",
    "        "
   ]
  },
  {
   "cell_type": "code",
   "execution_count": 11,
   "id": "157cabd4",
   "metadata": {},
   "outputs": [
    {
     "name": "stdout",
     "output_type": "stream",
     "text": [
      "* \n",
      "*   \n",
      "*   \n",
      "*   \n",
      "******\n"
     ]
    }
   ],
   "source": [
    "a=1\n",
    "while a<=5:\n",
    "    if a==1:\n",
    "        print(\"* \")\n",
    "    elif a==2:\n",
    "        print(\"*   \")\n",
    "    elif a==3:\n",
    "        print(\"*   \")\n",
    "    elif a==4:\n",
    "        print(\"*   \")\n",
    "    elif a==5:\n",
    "        print(\"******\")\n",
    "    a=a+1\n",
    "        "
   ]
  },
  {
   "cell_type": "code",
   "execution_count": 12,
   "id": "4ca2a6ab",
   "metadata": {},
   "outputs": [
    {
     "name": "stdout",
     "output_type": "stream",
     "text": [
      "*       *\n",
      "* *   * *\n",
      "*   *   *\n",
      "*       *\n",
      "*       *\n"
     ]
    }
   ],
   "source": [
    "a=1\n",
    "while a<=5:\n",
    "    if a==1:\n",
    "        print(\"*       *\")\n",
    "    elif a==2:\n",
    "        print(\"* *   * *\")\n",
    "    elif a==3:\n",
    "        print(\"*   *   *\")\n",
    "    elif a==4:\n",
    "        print(\"*       *\")\n",
    "    elif a==5:\n",
    "        print(\"*       *\")\n",
    "    a=a+1\n",
    "        "
   ]
  },
  {
   "cell_type": "code",
   "execution_count": 13,
   "id": "72d70213",
   "metadata": {},
   "outputs": [
    {
     "name": "stdout",
     "output_type": "stream",
     "text": [
      "*      *\n",
      "* *    *\n",
      "*  *   *\n",
      "*   *  *\n",
      "*    * *\n"
     ]
    }
   ],
   "source": [
    "a=1\n",
    "while a<=5:\n",
    "    if a==1:\n",
    "        print(\"*      *\")\n",
    "    elif a==2:\n",
    "        print(\"* *    *\")\n",
    "    elif a==3:\n",
    "        print(\"*  *   *\")\n",
    "    elif a==4:\n",
    "        print(\"*   *  *\")\n",
    "    elif a==5:\n",
    "        print(\"*    * *\")\n",
    "    a=a+1\n",
    "    "
   ]
  },
  {
   "cell_type": "code",
   "execution_count": 54,
   "id": "765aaccd",
   "metadata": {},
   "outputs": [
    {
     "name": "stdout",
     "output_type": "stream",
     "text": [
      " ***** \n",
      "*     *\n",
      "*     *\n",
      "*     *\n",
      " *****\n"
     ]
    }
   ],
   "source": [
    "a=1\n",
    "while a<=5:\n",
    "    if a==1:\n",
    "        print(\" ***** \")\n",
    "    elif a==2:\n",
    "        print(\"*     *\")\n",
    "    elif a==3:\n",
    "        print(\"*     *\")\n",
    "    elif a==4:\n",
    "        print(\"*     *\")\n",
    "    elif a==5:\n",
    "        print(\" *****\")\n",
    "    a=a+1\n",
    "        "
   ]
  },
  {
   "cell_type": "code",
   "execution_count": 15,
   "id": "afecfcf4",
   "metadata": {},
   "outputs": [
    {
     "name": "stdout",
     "output_type": "stream",
     "text": [
      "*****\n",
      "*    *\n",
      "*****\n",
      "*    \n",
      "*   \n"
     ]
    }
   ],
   "source": [
    "a=1\n",
    "while a<=5:\n",
    "    if a==1:\n",
    "        print(\"*****\")\n",
    "    elif a==2:\n",
    "        print(\"*    *\")\n",
    "    elif a==3:\n",
    "        print(\"*****\")\n",
    "    elif a==4:\n",
    "        print(\"*    \")\n",
    "    elif a==5:\n",
    "        print(\"*   \")\n",
    "    a=a+1"
   ]
  },
  {
   "cell_type": "code",
   "execution_count": 16,
   "id": "d697193c",
   "metadata": {},
   "outputs": [
    {
     "name": "stdout",
     "output_type": "stream",
     "text": [
      " *****\n",
      "*     *\n",
      "*  *  *\n",
      " *** * \n",
      "       *\n"
     ]
    }
   ],
   "source": [
    "a=1\n",
    "while a<=6:\n",
    "    if a==1:\n",
    "        print(\" *****\")\n",
    "    elif a==2:\n",
    "        print(\"*     *\")\n",
    "    elif a==3:\n",
    "        print(\"*  *  *\")\n",
    "    elif a==4:\n",
    "        print(\" *** * \")\n",
    "    elif a==5:\n",
    "        print(\"       *\")\n",
    "    a=a+1\n",
    "        "
   ]
  },
  {
   "cell_type": "code",
   "execution_count": 52,
   "id": "3103ff12",
   "metadata": {},
   "outputs": [
    {
     "name": "stdout",
     "output_type": "stream",
     "text": [
      "* * * *\n",
      "*     *\n",
      "*     *\n",
      "* * *\n",
      "*    * \n",
      "*      *\n"
     ]
    }
   ],
   "source": [
    "a=1\n",
    "while a<=6:\n",
    "    if a==1:\n",
    "        print(\"* * * *\")\n",
    "    elif a==2:\n",
    "        print(\"*     *\")\n",
    "    elif a==3:\n",
    "        print(\"*     *\")\n",
    "    elif a==4:\n",
    "        print(\"* * *\")\n",
    "    elif a==5:\n",
    "        print(\"*    * \")\n",
    "    elif a==6:\n",
    "        print(\"*      *\")\n",
    "    a=a+1\n",
    "        "
   ]
  },
  {
   "cell_type": "code",
   "execution_count": 22,
   "id": "78f2f012",
   "metadata": {},
   "outputs": [
    {
     "name": "stdout",
     "output_type": "stream",
     "text": [
      " *****\n",
      "*     \n",
      " * * *  \n",
      "      *\n",
      " *****\n"
     ]
    }
   ],
   "source": [
    "a=1\n",
    "while a<=6:\n",
    "    if a==1:\n",
    "        print(\" *****\")\n",
    "    elif a==2:\n",
    "        print(\"*     \")\n",
    "    elif a==3:\n",
    "        print(\" * * *  \")\n",
    "    elif a==4:\n",
    "        print(\"      *\")\n",
    "    elif a==5:\n",
    "        print(\" *****\")\n",
    "    a=a+1\n",
    "        "
   ]
  },
  {
   "cell_type": "code",
   "execution_count": 23,
   "id": "80364578",
   "metadata": {},
   "outputs": [
    {
     "name": "stdout",
     "output_type": "stream",
     "text": [
      "*******\n",
      "   *   \n",
      "   *   \n",
      "   *   \n",
      "   *   \n"
     ]
    }
   ],
   "source": [
    "a=1\n",
    "while a<=6:\n",
    "    if a==1:\n",
    "        print(\"*******\")\n",
    "    elif a==2:\n",
    "        print(\"   *   \")\n",
    "    elif a==3:\n",
    "        print(\"   *   \")\n",
    "    elif a==4:\n",
    "        print(\"   *   \")\n",
    "    elif a==5:\n",
    "        print(\"   *   \")\n",
    "    a=a+1\n",
    "        "
   ]
  },
  {
   "cell_type": "code",
   "execution_count": 34,
   "id": "36748024",
   "metadata": {},
   "outputs": [
    {
     "name": "stdout",
     "output_type": "stream",
     "text": [
      "*     *\n",
      "*     *\n",
      "*     *\n",
      "*     *\n",
      " *****\n"
     ]
    }
   ],
   "source": [
    "a=1\n",
    "while a<=6:\n",
    "    if a==1:\n",
    "        print(\"*     *\")\n",
    "    elif a==2:\n",
    "        print(\"*     *\")\n",
    "    elif a==3:\n",
    "        print(\"*     *\")\n",
    "    elif a==4:\n",
    "        print(\"*     *\")\n",
    "    elif a==5:\n",
    "        print(\" *****\")\n",
    "    a=a+1\n",
    "        "
   ]
  },
  {
   "cell_type": "code",
   "execution_count": 33,
   "id": "3b9a7dbd",
   "metadata": {},
   "outputs": [
    {
     "name": "stdout",
     "output_type": "stream",
     "text": [
      "*     *\n",
      "*     *\n",
      "*     *\n",
      " *   * \n",
      "   *  \n"
     ]
    }
   ],
   "source": [
    "a=1\n",
    "while a<=6:\n",
    "    if a==1:\n",
    "        print(\"*     *\")\n",
    "    elif a==2:\n",
    "        print(\"*     *\")\n",
    "    elif a==3:\n",
    "        print(\"*     *\")\n",
    "    elif a==4:\n",
    "        print(\" *   * \")\n",
    "    elif a==5:\n",
    "        print(\"   *  \")\n",
    "    a=a+1\n",
    "        "
   ]
  },
  {
   "cell_type": "code",
   "execution_count": 46,
   "id": "3f763933",
   "metadata": {},
   "outputs": [
    {
     "name": "stdout",
     "output_type": "stream",
     "text": [
      "*        *\n",
      "*    *   *\n",
      "*  *  *  *\n",
      "* *    * *\n",
      "*        *\n"
     ]
    }
   ],
   "source": [
    "a=1\n",
    "while a<=6:\n",
    "    if a==1:\n",
    "        print(\"*        *\")\n",
    "    elif a==2:\n",
    "        print(\"*    *   *\")\n",
    "    elif a==3:\n",
    "        print(\"*  *  *  *\")\n",
    "    elif a==4:\n",
    "        print(\"* *    * *\")\n",
    "    elif a==5:\n",
    "        print(\"*        *\")\n",
    "    a=a+1\n",
    "        "
   ]
  },
  {
   "cell_type": "code",
   "execution_count": 57,
   "id": "bbe35a58",
   "metadata": {},
   "outputs": [
    {
     "name": "stdout",
     "output_type": "stream",
     "text": [
      "*     *\n",
      " *   *\n",
      "   *   \n",
      " *   *\n",
      "*     *\n"
     ]
    }
   ],
   "source": [
    "a=1\n",
    "while a<=6:\n",
    "    if a==1:\n",
    "        print(\"*     *\")\n",
    "    elif a==2:\n",
    "        print(\" *   *\")\n",
    "    elif a==3:\n",
    "        print(\"   *   \")\n",
    "    elif a==4:\n",
    "        print(\" *   *\")\n",
    "    elif a==5:\n",
    "        print(\"*     *\")\n",
    "    a=a+1\n",
    "        "
   ]
  },
  {
   "cell_type": "code",
   "execution_count": 61,
   "id": "73f59b48",
   "metadata": {},
   "outputs": [
    {
     "name": "stdout",
     "output_type": "stream",
     "text": [
      "*     *\n",
      "*     *\n",
      " *   * \n",
      "   *   \n",
      "   *   \n"
     ]
    }
   ],
   "source": [
    "a=1\n",
    "while a<=6:\n",
    "    if a==1:\n",
    "        print(\"*     *\")\n",
    "    elif a==2:\n",
    "        print(\"*     *\")\n",
    "    elif a==3:\n",
    "        print(\" *   * \")\n",
    "    elif a==4:\n",
    "        print(\"   *   \")\n",
    "    elif a==5:\n",
    "        print(\"   *   \")\n",
    "    a=a+1\n",
    "        "
   ]
  },
  {
   "cell_type": "code",
   "execution_count": 64,
   "id": "2c2eab0e",
   "metadata": {},
   "outputs": [
    {
     "name": "stdout",
     "output_type": "stream",
     "text": [
      "********\n",
      "      * \n",
      "   *   \n",
      " *     \n",
      "********\n"
     ]
    }
   ],
   "source": [
    "a=1\n",
    "while a<=6:\n",
    "    if a==1:\n",
    "        print(\"********\")\n",
    "    elif a==2:\n",
    "        print(\"      * \")\n",
    "    elif a==3:\n",
    "        print(\"   *   \")\n",
    "    elif a==4:\n",
    "        print(\" *     \")\n",
    "    elif a==5:\n",
    "        print(\"********\")\n",
    "    a=a+1\n",
    "        "
   ]
  },
  {
   "cell_type": "code",
   "execution_count": null,
   "id": "66ef60ea",
   "metadata": {},
   "outputs": [],
   "source": []
  }
 ],
 "metadata": {
  "kernelspec": {
   "display_name": "Python 3 (ipykernel)",
   "language": "python",
   "name": "python3"
  },
  "language_info": {
   "codemirror_mode": {
    "name": "ipython",
    "version": 3
   },
   "file_extension": ".py",
   "mimetype": "text/x-python",
   "name": "python",
   "nbconvert_exporter": "python",
   "pygments_lexer": "ipython3",
   "version": "3.9.13"
  }
 },
 "nbformat": 4,
 "nbformat_minor": 5
}
