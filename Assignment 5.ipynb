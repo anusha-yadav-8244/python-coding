{
 "cells": [
  {
   "cell_type": "code",
   "execution_count": null,
   "id": "bc6558b4",
   "metadata": {},
   "outputs": [],
   "source": [
    "#1)Define a function which will return Max of three numbers"
   ]
  },
  {
   "cell_type": "code",
   "execution_count": 1,
   "id": "cd9b13fc",
   "metadata": {},
   "outputs": [],
   "source": [
    "def greater(a,b,c):\n",
    "    if a>b and a>c:\n",
    "        print(a,\"is greatest among these three numbers\")\n",
    "    elif b>a and b>c:\n",
    "        print(b,\"is greatest among these three numbers\")\n",
    "    else:\n",
    "        print(c,\"is greatest among these three numbers\")      \n"
   ]
  },
  {
   "cell_type": "code",
   "execution_count": 4,
   "id": "a16f5540",
   "metadata": {},
   "outputs": [
    {
     "name": "stdout",
     "output_type": "stream",
     "text": [
      "3 is greatest among these three numbers\n"
     ]
    }
   ],
   "source": [
    " greater(1,2,3)"
   ]
  },
  {
   "cell_type": "code",
   "execution_count": null,
   "id": "34e6d3ec",
   "metadata": {},
   "outputs": [],
   "source": [
    "#2. Define a Python Function to reverse a string."
   ]
  },
  {
   "cell_type": "code",
   "execution_count": 23,
   "id": "ea84fddf",
   "metadata": {},
   "outputs": [],
   "source": [
    "def reverse(a):\n",
    "    l=len(a)\n",
    "    p=\"\"\n",
    "    for i in range(l):\n",
    "        s=a[(l-1)-i]\n",
    "        p+=s\n",
    "    print(p)\n"
   ]
  },
  {
   "cell_type": "code",
   "execution_count": 24,
   "id": "3847d9f2",
   "metadata": {},
   "outputs": [
    {
     "name": "stdout",
     "output_type": "stream",
     "text": [
      "dcba\n"
     ]
    }
   ],
   "source": [
    "reverse(\"abcd\")"
   ]
  },
  {
   "cell_type": "code",
   "execution_count": 12,
   "id": "2cf124a1",
   "metadata": {},
   "outputs": [],
   "source": [
    "#3. Write a Python program to define a function that accepts 2 values \n",
    "#and return its sum, subtraction and multiplication."
   ]
  },
  {
   "cell_type": "code",
   "execution_count": 22,
   "id": "bcaceab1",
   "metadata": {},
   "outputs": [],
   "source": [
    "def cal(a,b):\n",
    "    print(a+b)\n",
    "    print(a-b)\n",
    "    print(a*b)\n"
   ]
  },
  {
   "cell_type": "code",
   "execution_count": 21,
   "id": "a9169c6b",
   "metadata": {},
   "outputs": [
    {
     "name": "stdout",
     "output_type": "stream",
     "text": [
      "3\n",
      "-1\n",
      "2\n"
     ]
    }
   ],
   "source": [
    "cal(1,2)"
   ]
  },
  {
   "cell_type": "code",
   "execution_count": null,
   "id": "c04760ee",
   "metadata": {},
   "outputs": [],
   "source": [
    "#4. Define a function that accepts roll number and returns whether the \n",
    "#student is present or absent."
   ]
  },
  {
   "cell_type": "code",
   "execution_count": 17,
   "id": "748501ed",
   "metadata": {},
   "outputs": [],
   "source": [
    "students={1:\"A\",2:\"B\",3:\"C\",4:\"D\",5:\"E\"}\n",
    "def roll_no(*a):\n",
    "    keys=students.keys()\n",
    "    for k in keys:\n",
    "        if k in a:\n",
    "            print(\"{} is present\".format(students[k]))\n",
    "        else:\n",
    "            print(\"{} is absent\".format(students[k]))\n"
   ]
  },
  {
   "cell_type": "code",
   "execution_count": 19,
   "id": "fba5ba7c",
   "metadata": {},
   "outputs": [
    {
     "name": "stdout",
     "output_type": "stream",
     "text": [
      "A is present\n",
      "B is absent\n",
      "C is present\n",
      "D is absent\n",
      "E is present\n"
     ]
    }
   ],
   "source": [
    "roll_no(1,3,5)"
   ]
  },
  {
   "cell_type": "code",
   "execution_count": null,
   "id": "7c930ee5",
   "metadata": {},
   "outputs": [],
   "source": [
    "#5. Define a function in python that accepts n values and returns \n",
    "#the maximum of n numbers"
   ]
  },
  {
   "cell_type": "code",
   "execution_count": 29,
   "id": "abcc12d5",
   "metadata": {},
   "outputs": [],
   "source": [
    "def n(*a):\n",
    "    l=[]\n",
    "    for i in a:\n",
    "        l.append(i)\n",
    "        l.sort()\n",
    "        m=l[-1]\n",
    "    return print(m)\n"
   ]
  },
  {
   "cell_type": "code",
   "execution_count": 31,
   "id": "3d53b9b2",
   "metadata": {},
   "outputs": [
    {
     "name": "stdout",
     "output_type": "stream",
     "text": [
      "5\n"
     ]
    }
   ],
   "source": [
    "n(2,5,1)"
   ]
  },
  {
   "cell_type": "code",
   "execution_count": null,
   "id": "4d37bca9",
   "metadata": {},
   "outputs": [],
   "source": [
    "#6. Define a function which counts vowels and consonant in a word."
   ]
  },
  {
   "cell_type": "code",
   "execution_count": 37,
   "id": "216cc840",
   "metadata": {},
   "outputs": [],
   "source": [
    "def vc(s):\n",
    "    v_count=0\n",
    "    c_count=0\n",
    "    for a in s:\n",
    "        if a==\"a\" or a==\"e\" or a==\"i\" or a==\"o\" or a==\"u\":\n",
    "            v_count+=1\n",
    "        else:\n",
    "            c_count+=1\n",
    "    print(\"vowels count=\",v_count)\n",
    "    print(\"consonant count=\",c_count)\n",
    "        "
   ]
  },
  {
   "cell_type": "code",
   "execution_count": 38,
   "id": "a4b91210",
   "metadata": {},
   "outputs": [
    {
     "name": "stdout",
     "output_type": "stream",
     "text": [
      "vowels count= 5\n",
      "consonant count= 21\n"
     ]
    }
   ],
   "source": [
    "vc(\"abcdefghijklmnopqrstuvwxyz\")"
   ]
  },
  {
   "cell_type": "code",
   "execution_count": null,
   "id": "859f476b",
   "metadata": {},
   "outputs": [],
   "source": [
    "#7. Define a function that returns Factorial of a number"
   ]
  },
  {
   "cell_type": "code",
   "execution_count": 46,
   "id": "5ea1f04f",
   "metadata": {},
   "outputs": [],
   "source": [
    "def factorial(num):\n",
    "    if num==1:\n",
    "        return 1\n",
    "    else:\n",
    "        return num*factorial(num-1)  "
   ]
  },
  {
   "cell_type": "code",
   "execution_count": 47,
   "id": "28afaaf6",
   "metadata": {},
   "outputs": [
    {
     "data": {
      "text/plain": [
       "6"
      ]
     },
     "execution_count": 47,
     "metadata": {},
     "output_type": "execute_result"
    }
   ],
   "source": [
    "factorial(3)"
   ]
  },
  {
   "cell_type": "code",
   "execution_count": null,
   "id": "bac8f8b7",
   "metadata": {},
   "outputs": [],
   "source": [
    "#8. Define a function that accepts radius and returns the area of a circle."
   ]
  },
  {
   "cell_type": "code",
   "execution_count": 48,
   "id": "02281f46",
   "metadata": {},
   "outputs": [],
   "source": [
    "def radius(r):\n",
    "    area=3.14*r**2\n",
    "    print(area)\n"
   ]
  },
  {
   "cell_type": "code",
   "execution_count": 49,
   "id": "9cd0e3ef",
   "metadata": {},
   "outputs": [
    {
     "name": "stdout",
     "output_type": "stream",
     "text": [
      "12.56\n"
     ]
    }
   ],
   "source": [
    "radius(2)"
   ]
  },
  {
   "cell_type": "code",
   "execution_count": null,
   "id": "16bff48d",
   "metadata": {},
   "outputs": [],
   "source": [
    "#9. Define a function that takes a number as a parameter and check \n",
    "#the number is prime or not."
   ]
  },
  {
   "cell_type": "code",
   "execution_count": 50,
   "id": "cac90b40",
   "metadata": {},
   "outputs": [],
   "source": [
    "def prime(n):\n",
    "    count=0\n",
    "    for i in range(1,n):\n",
    "        if n%i==0:\n",
    "            count+=1\n",
    "    if count>=2:\n",
    "        print(\"The number {} is not prime number\".format(n))\n",
    "    else:\n",
    "         print(\"The number {} is a prime number\".format(n))        \n",
    "\n"
   ]
  },
  {
   "cell_type": "code",
   "execution_count": 53,
   "id": "08e1af08",
   "metadata": {},
   "outputs": [
    {
     "name": "stdout",
     "output_type": "stream",
     "text": [
      "The number 2 is a prime number\n"
     ]
    }
   ],
   "source": [
    "prime(2)"
   ]
  },
  {
   "cell_type": "code",
   "execution_count": null,
   "id": "f11d56d8",
   "metadata": {},
   "outputs": [],
   "source": [
    "#10. Mary wants to run a 25-mile marathon. When she attempts to \n",
    "#sign up for the marathon, she notices the sign-up sheet doesn't \n",
    "#directly state the marathon's length. Instead, the marathon's length \n",
    "#is listed in small, different portions. Help Mary find out how long \n",
    "#the marathon actually is. So create a function that"
   ]
  },
  {
   "cell_type": "code",
   "execution_count": 71,
   "id": "b3f94e13",
   "metadata": {},
   "outputs": [],
   "source": [
    "def marathon(*km):\n",
    "    s=0\n",
    "    for i in km:\n",
    "        if i>0:\n",
    "            s=i+s\n",
    "        else:\n",
    "            i=i*(-1)\n",
    "            s+=i\n",
    "    if s==25:\n",
    "        print(\"True\")\n",
    "    else:\n",
    "        print(\"False\")\n"
   ]
  },
  {
   "cell_type": "code",
   "execution_count": 73,
   "id": "377a4aec",
   "metadata": {},
   "outputs": [
    {
     "name": "stdout",
     "output_type": "stream",
     "text": [
      "True\n"
     ]
    }
   ],
   "source": [
    "marathon(10,10,5)"
   ]
  },
  {
   "cell_type": "code",
   "execution_count": null,
   "id": "cdc03e03",
   "metadata": {},
   "outputs": [],
   "source": [
    "#11. Create a function that takes a number and returns True if the \n",
    "#number is automorphic, False if it isn't."
   ]
  },
  {
   "cell_type": "code",
   "execution_count": 74,
   "id": "9d91aa06",
   "metadata": {},
   "outputs": [],
   "source": [
    "def automorphic(number):\n",
    "    square=number**2\n",
    "    s=str(square)\n",
    "    if s[-1]==str(number):\n",
    "        print(number,\"is an automorphic number\")\n",
    "    else:\n",
    "        print(number,\"is not an automorphic number\")\n"
   ]
  },
  {
   "cell_type": "code",
   "execution_count": 75,
   "id": "a0c6126d",
   "metadata": {},
   "outputs": [
    {
     "name": "stdout",
     "output_type": "stream",
     "text": [
      "2 is not an automorphic number\n"
     ]
    }
   ],
   "source": [
    "automorphic(2)"
   ]
  },
  {
   "cell_type": "code",
   "execution_count": null,
   "id": "76408af3",
   "metadata": {},
   "outputs": [],
   "source": [
    "#12) Create a function, that will take given a, b, c, and do the following: \n",
    "# Add a to itself b times and Check if the result is divisible by c.\n",
    "# and return true if it is divisible by c or false"
   ]
  },
  {
   "cell_type": "code",
   "execution_count": 2,
   "id": "92463926",
   "metadata": {},
   "outputs": [],
   "source": [
    "def f1(a,b,c):\n",
    "    count=0\n",
    "    for i in range(1,b+1):\n",
    "        count+=1\n",
    "    a=a*count\n",
    "    if a%c==0:\n",
    "        print(\"true\")\n",
    "    else:\n",
    "        print(\"false\")\n"
   ]
  },
  {
   "cell_type": "code",
   "execution_count": 4,
   "id": "5fbb34db",
   "metadata": {},
   "outputs": [
    {
     "name": "stdout",
     "output_type": "stream",
     "text": [
      "true\n"
     ]
    }
   ],
   "source": [
    "f1(5,15,5)"
   ]
  },
  {
   "cell_type": "code",
   "execution_count": null,
   "id": "3df30dcf",
   "metadata": {},
   "outputs": [],
   "source": [
    "#13) Create a function that changes specific words into emoticons. \n",
    "#Given a sentence as a string, replace the words smile, grin, sad and mad \n",
    "#with their corresponding emoticons."
   ]
  },
  {
   "cell_type": "code",
   "execution_count": 10,
   "id": "7d140497",
   "metadata": {},
   "outputs": [],
   "source": [
    "def emoticons(e):\n",
    "    s=e.split()\n",
    "    d={\"smile\":\":D\",\"grin\":\":)\",\"sad\":\":(\",\"mad\":\":P\"}\n",
    "    for items in s:\n",
    "        if items in d.keys():\n",
    "            change=e.replace(items,d[items])\n",
    "            print(change)  "
   ]
  },
  {
   "cell_type": "code",
   "execution_count": 11,
   "id": "09f1dea0",
   "metadata": {},
   "outputs": [
    {
     "name": "stdout",
     "output_type": "stream",
     "text": [
      "i am :D\n"
     ]
    }
   ],
   "source": [
    "emoticons(\"i am smile\")"
   ]
  },
  {
   "cell_type": "code",
   "execution_count": null,
   "id": "f1b18355",
   "metadata": {},
   "outputs": [],
   "source": [
    "#14) Write a Python program to square and cube every number in a given \n",
    "#list of integers using Lambda"
   ]
  },
  {
   "cell_type": "code",
   "execution_count": 13,
   "id": "fe0f740c",
   "metadata": {},
   "outputs": [
    {
     "name": "stdout",
     "output_type": "stream",
     "text": [
      "[1, 4, 9, 16]\n",
      "[1, 8, 27, 64]\n"
     ]
    }
   ],
   "source": [
    "s=list(map(lambda x:x**2,[1,2,3,4]))\n",
    "s1=list(map(lambda x:x**3,[1,2,3,4]))\n",
    "print(s)\n",
    "print(s1)"
   ]
  },
  {
   "cell_type": "code",
   "execution_count": null,
   "id": "502ec56d",
   "metadata": {},
   "outputs": [],
   "source": [
    "#15)Write a Python program to check whether a given string is number \n",
    "#or not using Lambda"
   ]
  },
  {
   "cell_type": "code",
   "execution_count": 14,
   "id": "28a935af",
   "metadata": {},
   "outputs": [],
   "source": [
    "def string(a):\n",
    "    if a.isdigit():\n",
    "        print(\"digit\")\n",
    "    else:\n",
    "        print(\"string\")\n",
    "    \n",
    "    "
   ]
  },
  {
   "cell_type": "code",
   "execution_count": 15,
   "id": "d06ab238",
   "metadata": {},
   "outputs": [
    {
     "name": "stdout",
     "output_type": "stream",
     "text": [
      "string\n"
     ]
    }
   ],
   "source": [
    "string(\"anusha\")"
   ]
  },
  {
   "cell_type": "code",
   "execution_count": 16,
   "id": "06401785",
   "metadata": {},
   "outputs": [
    {
     "name": "stdout",
     "output_type": "stream",
     "text": [
      "digit\n"
     ]
    }
   ],
   "source": [
    "string(\"0123\")"
   ]
  },
  {
   "cell_type": "code",
   "execution_count": null,
   "id": "0631b554",
   "metadata": {},
   "outputs": [],
   "source": []
  }
 ],
 "metadata": {
  "kernelspec": {
   "display_name": "Python 3 (ipykernel)",
   "language": "python",
   "name": "python3"
  },
  "language_info": {
   "codemirror_mode": {
    "name": "ipython",
    "version": 3
   },
   "file_extension": ".py",
   "mimetype": "text/x-python",
   "name": "python",
   "nbconvert_exporter": "python",
   "pygments_lexer": "ipython3",
   "version": "3.9.13"
  }
 },
 "nbformat": 4,
 "nbformat_minor": 5
}
