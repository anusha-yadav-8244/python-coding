{
 "cells": [
  {
   "cell_type": "code",
   "execution_count": null,
   "id": "c692c2b5",
   "metadata": {},
   "outputs": [],
   "source": [
    "#1) Write a program to accept two numbers from the user and calculate multiplication, division"
   ]
  },
  {
   "cell_type": "code",
   "execution_count": 5,
   "id": "84a5ebf5",
   "metadata": {},
   "outputs": [
    {
     "name": "stdout",
     "output_type": "stream",
     "text": [
      "enter a first number9\n",
      "enter a second number9\n",
      "9*9=81\n",
      "9/9=1.0\n"
     ]
    }
   ],
   "source": [
    "x=int(input(\"enter a first number\"))\n",
    "y=int(input(\"enter a second number\"))\n",
    "z=(\"enter an operator\")\n",
    "print(\"{}*{}={}\".format(x,y,x*y))\n",
    "print(\"{}/{}={}\".format(x,y,x/y))"
   ]
  },
  {
   "cell_type": "code",
   "execution_count": 41,
   "id": "a723c079",
   "metadata": {},
   "outputs": [],
   "source": [
    "#2) Write a python program to print the characters from a string that are present at an even index\n"
   ]
  },
  {
   "cell_type": "code",
   "execution_count": 55,
   "id": "f949145d",
   "metadata": {},
   "outputs": [
    {
     "name": "stdout",
     "output_type": "stream",
     "text": [
      "['a', 'u', 'h']\n"
     ]
    }
   ],
   "source": [
    "z=\"anusha\"\n",
    "l=[]\n",
    "for a in range(len(z)):\n",
    "        if a%2==0:\n",
    "            l.append(z[a])\n",
    "print(l)\n",
    "\n",
    "    "
   ]
  },
  {
   "cell_type": "code",
   "execution_count": null,
   "id": "98b620e9",
   "metadata": {},
   "outputs": [],
   "source": [
    "#3) Write a python program to print the characters from a string that are present at an odd index"
   ]
  },
  {
   "cell_type": "code",
   "execution_count": 56,
   "id": "6067dd2b",
   "metadata": {},
   "outputs": [
    {
     "name": "stdout",
     "output_type": "stream",
     "text": [
      "['n', 's', 'a']\n"
     ]
    }
   ],
   "source": [
    "z=\"anusha\"\n",
    "l=[]\n",
    "for a in range(len(z)):\n",
    "    if a%2!=0:\n",
    "        l.append(z[a])\n",
    "print(l)"
   ]
  },
  {
   "cell_type": "code",
   "execution_count": null,
   "id": "1b72c8af",
   "metadata": {},
   "outputs": [],
   "source": [
    "#4) Write a python program which will print the sum of the two numbers if the two numbers are even or it will print the\n",
    "#difference of two numbers"
   ]
  },
  {
   "cell_type": "code",
   "execution_count": 88,
   "id": "614d75d4",
   "metadata": {},
   "outputs": [
    {
     "name": "stdout",
     "output_type": "stream",
     "text": [
      "enter a first number8\n",
      "enter a second number8\n",
      "8+8=16\n"
     ]
    }
   ],
   "source": [
    "x=int(input(\"enter a first number\"))\n",
    "y=int(input(\"enter a second number\"))\n",
    "c=x+y or x-y\n",
    "if c%2==0:\n",
    "    print(\"{}+{}={}\".format(x,y,x+y))\n",
    "if c%2!=0:\n",
    "    print(\"{}-{}={}\".format(x,y,x-y))"
   ]
  },
  {
   "cell_type": "code",
   "execution_count": null,
   "id": "e47604a0",
   "metadata": {},
   "outputs": [],
   "source": [
    "#5) Write a python program to convert all even indexed alphabets to upper and odd indexed char to lower"
   ]
  },
  {
   "cell_type": "code",
   "execution_count": 95,
   "id": "f5dfca14",
   "metadata": {},
   "outputs": [
    {
     "name": "stdout",
     "output_type": "stream",
     "text": [
      " AnUsHa\n"
     ]
    }
   ],
   "source": [
    "z=\"anusha\"\n",
    "j=\" \"\n",
    "for a in range(len(z)):\n",
    "    if a%2==0:\n",
    "        j=j+z[a].upper()\n",
    "    elif a%2!=0:\n",
    "        j=j+z[a].lower()\n",
    "print(j)\n"
   ]
  },
  {
   "cell_type": "code",
   "execution_count": null,
   "id": "72ec15eb",
   "metadata": {},
   "outputs": [],
   "source": [
    "#6) Write a python program which will print True if the input number is divisible by 5 or else False"
   ]
  },
  {
   "cell_type": "code",
   "execution_count": 124,
   "id": "2f9d2740",
   "metadata": {},
   "outputs": [
    {
     "name": "stdout",
     "output_type": "stream",
     "text": [
      "enter the number27\n",
      "False\n"
     ]
    }
   ],
   "source": [
    "y=int(input(\"enter the number\"))\n",
    "if y%5==0:\n",
    "     print(\"True\")\n",
    "else:\n",
    "     print(\"False\")"
   ]
  },
  {
   "cell_type": "code",
   "execution_count": null,
   "id": "7cc7edbf",
   "metadata": {},
   "outputs": [],
   "source": [
    "#7) Given two integer numbers return their product only if the product is greater than 1000, else return their sum"
   ]
  },
  {
   "cell_type": "code",
   "execution_count": 125,
   "id": "6988a8bc",
   "metadata": {},
   "outputs": [
    {
     "name": "stdout",
     "output_type": "stream",
     "text": [
      "enter the number1001\n",
      "enter the number5\n",
      "5005\n"
     ]
    }
   ],
   "source": [
    "x=int(input(\"enter the number\"))\n",
    "y=int(input(\"enter the number\"))\n",
    "if x*y>1000:\n",
    "    print(x*y)\n",
    "else:\n",
    "    print(x+y)"
   ]
  },
  {
   "cell_type": "code",
   "execution_count": null,
   "id": "faccdea4",
   "metadata": {},
   "outputs": [],
   "source": [
    "#8) Given two strings x, y writes a program to return a new string made of x and y’s first, middle, and last characters\n",
    "#Example:\n",
    "#Input\n",
    "#X=” pytho”\n",
    "#Y=” javas”\n",
    "#Output\n",
    "#” pjtvos”"
   ]
  },
  {
   "cell_type": "code",
   "execution_count": 126,
   "id": "6bad9229",
   "metadata": {},
   "outputs": [
    {
     "name": "stdout",
     "output_type": "stream",
     "text": [
      "enter a namepytho\n",
      "enter a namejavas\n"
     ]
    },
    {
     "data": {
      "text/plain": [
       "'pjtvos'"
      ]
     },
     "execution_count": 126,
     "metadata": {},
     "output_type": "execute_result"
    }
   ],
   "source": [
    "x=input(\"enter a name\")\n",
    "y=input(\"enter a name\")\n",
    "x[0]+y[0]+x[len(x)//2]+y[len(y)//2]+x[-1]+y[-1]"
   ]
  },
  {
   "cell_type": "code",
   "execution_count": null,
   "id": "37b7999b",
   "metadata": {},
   "outputs": [],
   "source": [
    "#9) Write a python program to take three names as input from a user in the single input () function call\n",
    "#Example:\n",
    "#Input:\n",
    "#Enter three names: - “person1 person2 person3”\n",
    "#Output:\n",
    "#Name1: - “person1”\n",
    "#Name2: - “person2”\n",
    "#Name3: - “person3”"
   ]
  },
  {
   "cell_type": "code",
   "execution_count": 5,
   "id": "df270fba",
   "metadata": {},
   "outputs": [
    {
     "name": "stdout",
     "output_type": "stream",
     "text": [
      "enter a nameperson1 person2 person3\n",
      "name1: person1\n",
      "name2: person2\n",
      "name3: person3\n"
     ]
    }
   ],
   "source": [
    "x=input(\"enter a name\")\n",
    "y=x.split()\n",
    "print(\"name1: {}\".format(y[0]))\n",
    "print(\"name2: {}\".format(y[1]))\n",
    "print(\"name3: {}\".format(y[2]))\n"
   ]
  },
  {
   "cell_type": "code",
   "execution_count": null,
   "id": "72eb449c",
   "metadata": {},
   "outputs": [],
   "source": [
    "#10) Write a Python program to get a string from a given string where all occurrences of its first char have been\n",
    "#changed to '@', except the first char itself.\n",
    "#Example:\n",
    "#Input:\n",
    "#'malayalam’\n",
    "#Output:\n",
    "#'malayala@'\n",
    "#Input:\n",
    "#' abcabab'\n",
    "#Output:\n",
    "#‘abc@b@b’"
   ]
  },
  {
   "cell_type": "code",
   "execution_count": 7,
   "id": "6e05130e",
   "metadata": {},
   "outputs": [
    {
     "name": "stdout",
     "output_type": "stream",
     "text": [
      "enter a name abacabab\n",
      "ab@c@b@b\n"
     ]
    }
   ],
   "source": [
    "s = input(\"enter a name \")\n",
    "x = s[0]\n",
    "for i in s:\n",
    "    s = s.replace(s[0],'@')\n",
    "    s = x + s[1:]\n",
    "print(s)"
   ]
  },
  {
   "cell_type": "code",
   "execution_count": null,
   "id": "c8ff606a",
   "metadata": {},
   "outputs": [],
   "source": [
    "#11) Write a Python program to add 'ing' at the end of a given string (string length should be equal to or more than 3). If\n",
    "#the given string already ends with 'ing' then add 'ly' instead.\n",
    "#If the string length of the given string is less than 3, leave it\n",
    "#unchanged\n",
    "#Example:\n",
    "#Input:\n",
    "#'sing’\n",
    "#Output:\n",
    "#'singing'\n",
    "#Input:\n",
    "#' playing'\n",
    "#Output:\n",
    "#‘playly’\n",
    "#Input:\n",
    "#' on'\n",
    "#Output:\n",
    "#‘on’\n"
   ]
  },
  {
   "cell_type": "code",
   "execution_count": 30,
   "id": "57d034c1",
   "metadata": {},
   "outputs": [
    {
     "name": "stdout",
     "output_type": "stream",
     "text": [
      "enter a name :play\n",
      "playing\n"
     ]
    }
   ],
   "source": [
    "x=input(\"enter a name :\")\n",
    "l=len(x)\n",
    "if l>=4:\n",
    "    if x.endswith(\"ing\"):\n",
    "        a=x[:-3]+\"ly\"\n",
    "        print(a)\n",
    "    else:\n",
    "         b=x[0:]+\"ing\"\n",
    "         print(b)\n",
    "if l<=3:\n",
    "        print(x)\n",
    "    "
   ]
  },
  {
   "cell_type": "code",
   "execution_count": 28,
   "id": "31d99f4f",
   "metadata": {},
   "outputs": [],
   "source": [
    "#12) Write a python program that accepts two inputs num1 and num2 print True if one of them is 10 or if their sum is 10\n",
    "#otherwise print False"
   ]
  },
  {
   "cell_type": "code",
   "execution_count": 4,
   "id": "0da81ec1",
   "metadata": {},
   "outputs": [
    {
     "name": "stdout",
     "output_type": "stream",
     "text": [
      "enter the number1 :1\n",
      "enter the number2 :2\n",
      "False\n"
     ]
    }
   ],
   "source": [
    "a=int(input(\"enter the number1 :\"))\n",
    "b=int(input(\"enter the number2 :\"))\n",
    "c=a+b\n",
    "if a>=10 or b>=10 or c==10:\n",
    "    print(\"True\")\n",
    "else:\n",
    "    print(\"False\")"
   ]
  },
  {
   "cell_type": "code",
   "execution_count": null,
   "id": "4b0a9653",
   "metadata": {},
   "outputs": [],
   "source": [
    "#13) Write a python program that accepts three inputs x, y and z print True if x*y>z otherwise False"
   ]
  },
  {
   "cell_type": "code",
   "execution_count": 31,
   "id": "6dc7da60",
   "metadata": {},
   "outputs": [
    {
     "name": "stdout",
     "output_type": "stream",
     "text": [
      "enter the number1 :2\n",
      "enter the number2 :3\n",
      "enter the number3 :4\n",
      "False\n"
     ]
    }
   ],
   "source": [
    "a=int(input(\"enter the number1 :\"))\n",
    "b=int(input(\"enter the number2 :\"))\n",
    "c=int(input(\"enter the number3 :\"))\n",
    "d=a*b\n",
    "if c>d:\n",
    "    print(\"True\")\n",
    "else:\n",
    "    print(\"False\")"
   ]
  },
  {
   "cell_type": "code",
   "execution_count": null,
   "id": "de6db9c0",
   "metadata": {},
   "outputs": [],
   "source": [
    "#14) Write a python program that accepts two strings inputs return True depending on whether the total number of\n",
    "#characters in the first string is equal to the total number of characters in the second string\n"
   ]
  },
  {
   "cell_type": "code",
   "execution_count": 32,
   "id": "5284e3ee",
   "metadata": {},
   "outputs": [
    {
     "name": "stdout",
     "output_type": "stream",
     "text": [
      "enter the number1 :2\n",
      "enter the number2 :3\n",
      "True\n"
     ]
    }
   ],
   "source": [
    "a=list(input(\"enter the number1 :\"))\n",
    "b=list(input(\"enter the number2 :\"))\n",
    "if len(a)==len(b):\n",
    "    print(\"True\")\n",
    "else:\n",
    "    print(\"they are not equal\")"
   ]
  },
  {
   "cell_type": "code",
   "execution_count": null,
   "id": "9d8db83a",
   "metadata": {},
   "outputs": [],
   "source": [
    "#15) Write a python program that takes a string input, we'll say that the front is the first three characters of the string. If the\n",
    "#string length is less than three characters, the front is whatever is there. Return a new string, which is three copies\n",
    "#of the front"
   ]
  },
  {
   "cell_type": "code",
   "execution_count": 8,
   "id": "44e9046c",
   "metadata": {},
   "outputs": [
    {
     "name": "stdout",
     "output_type": "stream",
     "text": [
      "enter a string :abcdef\n",
      "abcdabcdabcd\n"
     ]
    }
   ],
   "source": [
    "a=input(\"enter a string :\")\n",
    "if len(a)<3:\n",
    "    print(a)\n",
    "elif len(a)>=3:\n",
    "    print(a[0:4]*3)"
   ]
  },
  {
   "cell_type": "code",
   "execution_count": null,
   "id": "9c4be6e7",
   "metadata": {},
   "outputs": [],
   "source": [
    "#16) Write a python program that takes in a word and determines whether or not it is plural. A plural word is one\n",
    "#that ends in \"s\"."
   ]
  },
  {
   "cell_type": "code",
   "execution_count": 5,
   "id": "1b7a77fa",
   "metadata": {},
   "outputs": [
    {
     "name": "stdout",
     "output_type": "stream",
     "text": [
      "enter a string mango\n",
      "it is not plural word\n"
     ]
    }
   ],
   "source": [
    "a=input(\"enter a string \")\n",
    "if a.endswith(\"s\"):\n",
    "    print(\"it is a plural word \",a)\n",
    "else:\n",
    "    print(\"it is not plural word\")"
   ]
  },
  {
   "cell_type": "code",
   "execution_count": null,
   "id": "5f6e4aa4",
   "metadata": {},
   "outputs": [],
   "source": [
    "#17) A bartender is writing a simple program to determine whether he should serve drinks to someone. He only serves\n",
    "#drinks to people 18 and older and when he's not on break (True means break and False means not a break time). Given\n",
    "#the person's age, and whether break time is in session, create\n",
    "#a python program which prints whether he should serve drinks or not.\n"
   ]
  },
  {
   "cell_type": "code",
   "execution_count": 9,
   "id": "9fb2389d",
   "metadata": {},
   "outputs": [
    {
     "name": "stdout",
     "output_type": "stream",
     "text": [
      "Is bartender on break(True/False): True\n",
      "Bartender should not serve drinks\n"
     ]
    }
   ],
   "source": [
    "x=input(\"Is bartender on break(True/False): \")\n",
    "\n",
    "if x==\"True\":\n",
    "    print(\"Bartender should not serve drinks\")\n",
    "elif x==\"False\":\n",
    "    y=int(input(\" plese enetr the Age of the customer: \"))\n",
    "    if y>=18:\n",
    "        print(\"Bartender  serve drinks\")\n",
    "    else:\n",
    "        print(\"Bartender  not serve drinks\")\n",
    "else:\n",
    "    print(\"Input has to be True or False\")"
   ]
  },
  {
   "cell_type": "code",
   "execution_count": null,
   "id": "4b4fc085",
   "metadata": {},
   "outputs": [],
   "source": [
    "#18) Manoj Kumar has family and friends. Help him remind them who is who. Given a string with a name, return the\n",
    "#relation of that person to Manoj Kumar. Person Relation Shiva father Letha mother Tarun brother"
   ]
  },
  {
   "cell_type": "code",
   "execution_count": 15,
   "id": "e987a962",
   "metadata": {},
   "outputs": [
    {
     "name": "stdout",
     "output_type": "stream",
     "text": [
      "enter the name :Shiva\n",
      "Shiva father\n"
     ]
    }
   ],
   "source": [
    "name=input(\"enter the name :\")\n",
    "if name==\"Shiva\":\n",
    "    print(name,\"father\")\n",
    "elif name==\"Letha\":\n",
    "    print(name,\"mother\")\n",
    "elif name==\"Tarun\":\n",
    "    print(name,\"brother\")\n",
    "elif name==\"Kavita\":\n",
    "    print(name,\"sister\")\n",
    "elif name==\"Stranger\":\n",
    "    print(name,\"coder\")"
   ]
  },
  {
   "cell_type": "code",
   "execution_count": null,
   "id": "2762c902",
   "metadata": {},
   "outputs": [],
   "source": [
    "#19) Write a python program that takes a string, breaks it up and returns it with vowels first, consonants second. For any\n",
    "#character that's not a vowel (like special characters or spaces), treat them like consonants"
   ]
  },
  {
   "cell_type": "code",
   "execution_count": 19,
   "id": "56e19683",
   "metadata": {},
   "outputs": [
    {
     "name": "stdout",
     "output_type": "stream",
     "text": [
      "Type the string: abcdefghijklmnopqrstuvwxyz,\n",
      "aeioubcdfghjklmnpqrstvwxyz,\n"
     ]
    }
   ],
   "source": [
    "x=input(\"Type the string: \")\n",
    "x1=\"\"\n",
    "x2=\"\"\n",
    "for y in range(len(x)):\n",
    "    if x[y]==\"a\" or x[y]==\"e\" or x[y]==\"i\" or x[y]==\"o\" or x[y]==\"u\":\n",
    "        x1=x1+x[y]\n",
    "    else:\n",
    "        x2=x2+x[y]\n",
    "print(x1+x2)  "
   ]
  },
  {
   "cell_type": "code",
   "execution_count": null,
   "id": "ad5b1586",
   "metadata": {},
   "outputs": [],
   "source": [
    "#20) Create a dynamic calculator which asks for numbers and operator and return the answers\n",
    "#Example\n",
    "#Input:\n",
    "#Type first number: 10\n",
    "#Type any of this (+, -, *, /, %, **): *\n",
    "#Kavitha sister\n",
    "#Strange Coder\n",
    "#Assignment-2\n",
    "#Type second number: 19\n",
    "#Output:\n",
    "#nswer is 190"
   ]
  },
  {
   "cell_type": "code",
   "execution_count": 24,
   "id": "3c4bb6d1",
   "metadata": {},
   "outputs": [
    {
     "name": "stdout",
     "output_type": "stream",
     "text": [
      "eneter first value :12\n",
      "enter second value :12\n",
      "type any of this [+, -, *, /, %, **] +\n",
      "The addition of two numbers is : 24\n"
     ]
    }
   ],
   "source": [
    "a=int(input(\"eneter first value :\"))\n",
    "b=int(input(\"enter second value :\"))\n",
    "c=input(\"type any of this [+, -, *, /, %, **] \")\n",
    "if c==\"+\":\n",
    "    print(\"The addition of two numbers is :\",a+b)\n",
    "elif c==\"-\":\n",
    "    print(\"the substraction of two numbers is :\",a-b)\n",
    "elif c==\"*\":\n",
    "    print(\"the product of two numbers is :\",a*b)\n",
    "elif c==\"%\":\n",
    "    print(\"the  floor division of two numbers is\",a%b)\n",
    "elif c==\"/\":\n",
    "    print(\"the floor division of twi numbers is \",a/b)\n",
    "elif c==\"**\":\n",
    "    print(\"the power of two numbers is\",a**b)"
   ]
  },
  {
   "cell_type": "code",
   "execution_count": null,
   "id": "36fb3e0a",
   "metadata": {},
   "outputs": [],
   "source": []
  },
  {
   "cell_type": "code",
   "execution_count": null,
   "id": "a45140f3",
   "metadata": {},
   "outputs": [],
   "source": []
  }
 ],
 "metadata": {
  "kernelspec": {
   "display_name": "Python 3 (ipykernel)",
   "language": "python",
   "name": "python3"
  },
  "language_info": {
   "codemirror_mode": {
    "name": "ipython",
    "version": 3
   },
   "file_extension": ".py",
   "mimetype": "text/x-python",
   "name": "python",
   "nbconvert_exporter": "python",
   "pygments_lexer": "ipython3",
   "version": "3.9.13"
  }
 },
 "nbformat": 4,
 "nbformat_minor": 5
}
